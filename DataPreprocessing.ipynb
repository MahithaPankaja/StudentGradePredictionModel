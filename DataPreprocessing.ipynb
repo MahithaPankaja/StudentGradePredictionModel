{
  "cells": [
    {
      "cell_type": "code",
      "execution_count": 1,
      "metadata": {
        "id": "9qdLF01sWtua"
      },
      "outputs": [],
      "source": [
        "import pandas as pd\n",
        "import numpy as np"
      ]
    },
    {
      "cell_type": "code",
      "execution_count": 2,
      "metadata": {
        "colab": {
          "base_uri": "https://localhost:8080/",
          "height": 1000
        },
        "id": "B_BI-ECZdt33",
        "outputId": "39ed9135-afb7-4620-a77a-07ea9b82046c"
      },
      "outputs": [
        {
          "output_type": "stream",
          "name": "stdout",
          "text": [
            "dataSet.csv not found: please upload it now.\n"
          ]
        },
        {
          "output_type": "display_data",
          "data": {
            "text/plain": [
              "<IPython.core.display.HTML object>"
            ],
            "text/html": [
              "\n",
              "     <input type=\"file\" id=\"files-6aa77226-b501-4580-be1e-901bce61395e\" name=\"files[]\" multiple disabled\n",
              "        style=\"border:none\" />\n",
              "     <output id=\"result-6aa77226-b501-4580-be1e-901bce61395e\">\n",
              "      Upload widget is only available when the cell has been executed in the\n",
              "      current browser session. Please rerun this cell to enable.\n",
              "      </output>\n",
              "      <script>// Copyright 2017 Google LLC\n",
              "//\n",
              "// Licensed under the Apache License, Version 2.0 (the \"License\");\n",
              "// you may not use this file except in compliance with the License.\n",
              "// You may obtain a copy of the License at\n",
              "//\n",
              "//      http://www.apache.org/licenses/LICENSE-2.0\n",
              "//\n",
              "// Unless required by applicable law or agreed to in writing, software\n",
              "// distributed under the License is distributed on an \"AS IS\" BASIS,\n",
              "// WITHOUT WARRANTIES OR CONDITIONS OF ANY KIND, either express or implied.\n",
              "// See the License for the specific language governing permissions and\n",
              "// limitations under the License.\n",
              "\n",
              "/**\n",
              " * @fileoverview Helpers for google.colab Python module.\n",
              " */\n",
              "(function(scope) {\n",
              "function span(text, styleAttributes = {}) {\n",
              "  const element = document.createElement('span');\n",
              "  element.textContent = text;\n",
              "  for (const key of Object.keys(styleAttributes)) {\n",
              "    element.style[key] = styleAttributes[key];\n",
              "  }\n",
              "  return element;\n",
              "}\n",
              "\n",
              "// Max number of bytes which will be uploaded at a time.\n",
              "const MAX_PAYLOAD_SIZE = 100 * 1024;\n",
              "\n",
              "function _uploadFiles(inputId, outputId) {\n",
              "  const steps = uploadFilesStep(inputId, outputId);\n",
              "  const outputElement = document.getElementById(outputId);\n",
              "  // Cache steps on the outputElement to make it available for the next call\n",
              "  // to uploadFilesContinue from Python.\n",
              "  outputElement.steps = steps;\n",
              "\n",
              "  return _uploadFilesContinue(outputId);\n",
              "}\n",
              "\n",
              "// This is roughly an async generator (not supported in the browser yet),\n",
              "// where there are multiple asynchronous steps and the Python side is going\n",
              "// to poll for completion of each step.\n",
              "// This uses a Promise to block the python side on completion of each step,\n",
              "// then passes the result of the previous step as the input to the next step.\n",
              "function _uploadFilesContinue(outputId) {\n",
              "  const outputElement = document.getElementById(outputId);\n",
              "  const steps = outputElement.steps;\n",
              "\n",
              "  const next = steps.next(outputElement.lastPromiseValue);\n",
              "  return Promise.resolve(next.value.promise).then((value) => {\n",
              "    // Cache the last promise value to make it available to the next\n",
              "    // step of the generator.\n",
              "    outputElement.lastPromiseValue = value;\n",
              "    return next.value.response;\n",
              "  });\n",
              "}\n",
              "\n",
              "/**\n",
              " * Generator function which is called between each async step of the upload\n",
              " * process.\n",
              " * @param {string} inputId Element ID of the input file picker element.\n",
              " * @param {string} outputId Element ID of the output display.\n",
              " * @return {!Iterable<!Object>} Iterable of next steps.\n",
              " */\n",
              "function* uploadFilesStep(inputId, outputId) {\n",
              "  const inputElement = document.getElementById(inputId);\n",
              "  inputElement.disabled = false;\n",
              "\n",
              "  const outputElement = document.getElementById(outputId);\n",
              "  outputElement.innerHTML = '';\n",
              "\n",
              "  const pickedPromise = new Promise((resolve) => {\n",
              "    inputElement.addEventListener('change', (e) => {\n",
              "      resolve(e.target.files);\n",
              "    });\n",
              "  });\n",
              "\n",
              "  const cancel = document.createElement('button');\n",
              "  inputElement.parentElement.appendChild(cancel);\n",
              "  cancel.textContent = 'Cancel upload';\n",
              "  const cancelPromise = new Promise((resolve) => {\n",
              "    cancel.onclick = () => {\n",
              "      resolve(null);\n",
              "    };\n",
              "  });\n",
              "\n",
              "  // Wait for the user to pick the files.\n",
              "  const files = yield {\n",
              "    promise: Promise.race([pickedPromise, cancelPromise]),\n",
              "    response: {\n",
              "      action: 'starting',\n",
              "    }\n",
              "  };\n",
              "\n",
              "  cancel.remove();\n",
              "\n",
              "  // Disable the input element since further picks are not allowed.\n",
              "  inputElement.disabled = true;\n",
              "\n",
              "  if (!files) {\n",
              "    return {\n",
              "      response: {\n",
              "        action: 'complete',\n",
              "      }\n",
              "    };\n",
              "  }\n",
              "\n",
              "  for (const file of files) {\n",
              "    const li = document.createElement('li');\n",
              "    li.append(span(file.name, {fontWeight: 'bold'}));\n",
              "    li.append(span(\n",
              "        `(${file.type || 'n/a'}) - ${file.size} bytes, ` +\n",
              "        `last modified: ${\n",
              "            file.lastModifiedDate ? file.lastModifiedDate.toLocaleDateString() :\n",
              "                                    'n/a'} - `));\n",
              "    const percent = span('0% done');\n",
              "    li.appendChild(percent);\n",
              "\n",
              "    outputElement.appendChild(li);\n",
              "\n",
              "    const fileDataPromise = new Promise((resolve) => {\n",
              "      const reader = new FileReader();\n",
              "      reader.onload = (e) => {\n",
              "        resolve(e.target.result);\n",
              "      };\n",
              "      reader.readAsArrayBuffer(file);\n",
              "    });\n",
              "    // Wait for the data to be ready.\n",
              "    let fileData = yield {\n",
              "      promise: fileDataPromise,\n",
              "      response: {\n",
              "        action: 'continue',\n",
              "      }\n",
              "    };\n",
              "\n",
              "    // Use a chunked sending to avoid message size limits. See b/62115660.\n",
              "    let position = 0;\n",
              "    do {\n",
              "      const length = Math.min(fileData.byteLength - position, MAX_PAYLOAD_SIZE);\n",
              "      const chunk = new Uint8Array(fileData, position, length);\n",
              "      position += length;\n",
              "\n",
              "      const base64 = btoa(String.fromCharCode.apply(null, chunk));\n",
              "      yield {\n",
              "        response: {\n",
              "          action: 'append',\n",
              "          file: file.name,\n",
              "          data: base64,\n",
              "        },\n",
              "      };\n",
              "\n",
              "      let percentDone = fileData.byteLength === 0 ?\n",
              "          100 :\n",
              "          Math.round((position / fileData.byteLength) * 100);\n",
              "      percent.textContent = `${percentDone}% done`;\n",
              "\n",
              "    } while (position < fileData.byteLength);\n",
              "  }\n",
              "\n",
              "  // All done.\n",
              "  yield {\n",
              "    response: {\n",
              "      action: 'complete',\n",
              "    }\n",
              "  };\n",
              "}\n",
              "\n",
              "scope.google = scope.google || {};\n",
              "scope.google.colab = scope.google.colab || {};\n",
              "scope.google.colab._files = {\n",
              "  _uploadFiles,\n",
              "  _uploadFilesContinue,\n",
              "};\n",
              "})(self);\n",
              "</script> "
            ]
          },
          "metadata": {}
        },
        {
          "output_type": "stream",
          "name": "stdout",
          "text": [
            "Saving dataSet.csv to dataSet.csv\n",
            "             Timestamp Year of Study Your Average Lecture attendance Rate  \\\n",
            "0  12/07/2025 16:50:00      3rd Year                            75% - 90%   \n",
            "1  12/07/2025 16:50:29      3rd Year                            Above 90%   \n",
            "2  12/07/2025 16:51:44      3rd Year                            Below 50%   \n",
            "3  12/07/2025 16:51:49      3rd Year                            50% - 74%   \n",
            "4  12/07/2025 16:55:43      2nd Year                            Above 90%   \n",
            "\n",
            "  Recently Released Semester Results [Subject 1]  \\\n",
            "0                                             B+   \n",
            "1                                             A-   \n",
            "2                                             C-   \n",
            "3                                              A   \n",
            "4                                             B-   \n",
            "\n",
            "  Recently Released Semester Results [Subject 2]  \\\n",
            "0                                             B+   \n",
            "1                                             B+   \n",
            "2                                              C   \n",
            "3                                              B   \n",
            "4                                              D   \n",
            "\n",
            "  Recently Released Semester Results [Subject 3]  \\\n",
            "0                                             B+   \n",
            "1                                             B-   \n",
            "2                                         Absent   \n",
            "3                                             B-   \n",
            "4                                              C   \n",
            "\n",
            "  Recently Released Semester Results [Subject 4]  \\\n",
            "0                                             B+   \n",
            "1                                              C   \n",
            "2                                              E   \n",
            "3                                             C+   \n",
            "4                                         Absent   \n",
            "\n",
            "  If you had more than four subjects [Subject 5]  \\\n",
            "0                                             B+   \n",
            "1                                             B+   \n",
            "2                                            NaN   \n",
            "3                                              C   \n",
            "4                                            NaN   \n",
            "\n",
            "  If you had more than four subjects [Subject 6]  \\\n",
            "0                                             B+   \n",
            "1                                            NaN   \n",
            "2                                            NaN   \n",
            "3                                            NaN   \n",
            "4                                            NaN   \n",
            "\n",
            "  If you had more than four subjects [Subject 7]  \\\n",
            "0                                             B+   \n",
            "1                                            NaN   \n",
            "2                                            NaN   \n",
            "3                                            NaN   \n",
            "4                                            NaN   \n",
            "\n",
            "  If you had more than four subjects [Subject 8]  \\\n",
            "0                                             B+   \n",
            "1                                            NaN   \n",
            "2                                            NaN   \n",
            "3                                            NaN   \n",
            "4                                            NaN   \n",
            "\n",
            "   What is your current GPA ? (If you don't know, you can leave this)  \\\n",
            "0                                               2.22                    \n",
            "1                                               2.94                    \n",
            "2                                                NaN                    \n",
            "3                                               3.14                    \n",
            "4                                                NaN                    \n",
            "\n",
            "  How many hours do you study per week?  \\\n",
            "0                   10 hours - 20 hours   \n",
            "1                    Less than 10 hours   \n",
            "2                    Less than 10 hours   \n",
            "3                   10 hours - 20 hours   \n",
            "4                    Less than 10 hours   \n",
            "\n",
            "  How Often do You Complete Assignments on Time  \\\n",
            "0                                        Always   \n",
            "1                                        Always   \n",
            "2                                     Sometimes   \n",
            "3                                         Often   \n",
            "4                                        Always   \n",
            "\n",
            "  Are you currently doing a part time job?  \\\n",
            "0                                      Yes   \n",
            "1                                       No   \n",
            "2                                      Yes   \n",
            "3                                       No   \n",
            "4                                       No   \n",
            "\n",
            "  If yes, how many hours per week do you work?  \\\n",
            "0                          10 hours - 20 hours   \n",
            "1                                          NaN   \n",
            "2                           Less than 10 hours   \n",
            "3                                          NaN   \n",
            "4                                          NaN   \n",
            "\n",
            "  Are you involved in any sports or extracurricular activities(clubs, societies, volunteering, etc.)?  \\\n",
            "0                                       Occasionally                                                    \n",
            "1                                                Yes                                                    \n",
            "2                                                 No                                                    \n",
            "3                                                Yes                                                    \n",
            "4                                                 No                                                    \n",
            "\n",
            "  If yes, how many hours per week do you spend on sports  or extracurricular activities  ?  \n",
            "0                                          1-3 hours                                        \n",
            "1                                          4-6 hours                                        \n",
            "2                                          1-3 hours                                        \n",
            "3                                  More than 6 hours                                        \n",
            "4                                                NaN                                        \n"
          ]
        }
      ],
      "source": [
        "import os\n",
        "\n",
        "filename = 'dataSet.csv'\n",
        "if not os.path.exists(filename):\n",
        "    from google.colab import files\n",
        "    print(f\"{filename} not found: please upload it now.\")\n",
        "    uploaded = files.upload()  # This will prompt upload if needed\n",
        "\n",
        "df = pd.read_csv(filename)\n",
        "print(df.head())\n"
      ]
    },
    {
      "cell_type": "code",
      "execution_count": 3,
      "metadata": {
        "colab": {
          "base_uri": "https://localhost:8080/"
        },
        "id": "ilap53Ynd0S8",
        "outputId": "31f29d1c-81a6-4fb1-fc3b-90f5f4c954c2"
      },
      "outputs": [
        {
          "output_type": "stream",
          "name": "stdout",
          "text": [
            "Columns after drop:\n",
            " Index(['Year of Study', 'Your Average Lecture attendance Rate',\n",
            "       'Recently Released Semester Results [Subject 1]',\n",
            "       'Recently Released Semester Results [Subject 2]',\n",
            "       'Recently Released Semester Results [Subject 3]',\n",
            "       'Recently Released Semester Results [Subject 4]',\n",
            "       'What is your current GPA ? (If you don't know, you can leave this)',\n",
            "       'How many hours do you study per week?',\n",
            "       'How Often do You Complete Assignments on Time',\n",
            "       'Are you currently doing a part time job?',\n",
            "       'If yes, how many hours per week do you work?',\n",
            "       'Are you involved in any sports or extracurricular activities(clubs, societies, volunteering, etc.)?',\n",
            "       'If yes, how many hours per week do you spend on sports  or extracurricular activities  ?'],\n",
            "      dtype='object')\n"
          ]
        }
      ],
      "source": [
        "# Drop unnecessary columns: Timestamp and extra subject columns (Subject 5 to 8)\n",
        "columns_to_drop = [\n",
        "    'Timestamp',\n",
        "    'If you had more than four subjects [Subject 5]',\n",
        "    'If you had more than four subjects [Subject 6]',\n",
        "    'If you had more than four subjects [Subject 7]',\n",
        "    'If you had more than four subjects [Subject 8]'\n",
        "]\n",
        "df = df.drop(columns=columns_to_drop)\n",
        "print(\"Columns after drop:\\n\", df.columns)"
      ]
    },
    {
      "cell_type": "code",
      "execution_count": 4,
      "metadata": {
        "id": "7tew_hkrd398"
      },
      "outputs": [],
      "source": [
        "# Handle and encode GPA column\n",
        "\n",
        "gpa_col = \"What is your current GPA ? (If you don't know, you can leave this)\"\n",
        "df[gpa_col] = pd.to_numeric(df[gpa_col], errors='coerce')                 # convert to numeric\n",
        "df[gpa_col] = df[gpa_col].fillna(df[gpa_col].mean())                      # fill missing with mean"
      ]
    },
    {
      "cell_type": "code",
      "execution_count": 5,
      "metadata": {
        "colab": {
          "base_uri": "https://localhost:8080/"
        },
        "id": "RYGbDrJLd6yU",
        "outputId": "709fd824-b67e-460a-8a79-f26856b40f14"
      },
      "outputs": [
        {
          "output_type": "stream",
          "name": "stdout",
          "text": [
            "Dataset shape after dropping rows with missing attendance or subject grades: (108, 13)\n"
          ]
        }
      ],
      "source": [
        "# Drop rows with missing critical fields: Attendance and Subject 1 to 4 grades\n",
        "\n",
        "subject_cols = [\n",
        "    'Recently Released Semester Results [Subject 1]',\n",
        "    'Recently Released Semester Results [Subject 2]',\n",
        "    'Recently Released Semester Results [Subject 3]',\n",
        "    'Recently Released Semester Results [Subject 4]'\n",
        "]\n",
        "\n",
        "df = df.dropna(subset=['Your Average Lecture attendance Rate'] + subject_cols)\n",
        "print(f\"Dataset shape after dropping rows with missing attendance or subject grades: {df.shape}\")\n"
      ]
    },
    {
      "cell_type": "code",
      "execution_count": 6,
      "metadata": {
        "id": "euUOaNdId-w9"
      },
      "outputs": [],
      "source": [
        "# Encode Categorical Variables\n",
        "\n",
        "# Encode Attendance Rate\n",
        "attendance_map = {\n",
        "    'Above 90%': 0.95,\n",
        "    '75% - 90%': 0.825,\n",
        "    '50% - 74%': 0.62,\n",
        "    'Below 50%': 0.45\n",
        "}\n",
        "df['Attendance_Encoded'] = df['Your Average Lecture attendance Rate'].map(attendance_map)\n",
        "\n",
        "# Encode Study Hours per week\n",
        "study_hours_map = {\n",
        "    'Less than 10 hours': 5,\n",
        "    '10 hours - 20 hours': 15,\n",
        "    'More than 20 hours': 25\n",
        "}\n",
        "df['StudyHours_Encoded'] = df['How many hours do you study per week?'].map(study_hours_map)\n",
        "\n",
        "# Encode Assignment Completion Frequency\n",
        "assignments_map = {\n",
        "    'Always': 3,\n",
        "    'Often': 2,\n",
        "    'Sometimes': 1,\n",
        "    'Rarely': 0\n",
        "}\n",
        "df['Assignments_Encoded'] = df['How Often do You Complete Assignments on Time'].map(assignments_map)\n",
        "\n",
        "# Encode Part-Time Job and Extracurricular activities\n",
        "df['PartTimeJob_Encoded'] = df['Are you currently doing a part time job?'].map({'Yes': 1, 'No': 0})\n",
        "df['Extracurriculars_Encoded'] = df['Are you involved in any sports or extracurricular activities(clubs, societies, volunteering, etc.)?'].map({\n",
        "    'Yes': 1,\n",
        "    'No': 0,\n",
        "    'Occasionally': 0.5\n",
        "})\n",
        "\n",
        "\n",
        "# Encode Grades for Subjects 1 to 4\n",
        "grade_map = {\n",
        "    'A+': 4.0, 'A': 4.0, 'A-': 3.7,\n",
        "    'B+': 3.3, 'B': 3.0, 'B-': 2.7,\n",
        "    'C+': 2.3, 'C': 2.0, 'C-': 1.7,\n",
        "    'D+': 1.3, 'D': 1.0, 'E': 0.0,\n",
        "    'Absent': np.nan, 'Ineligible': np.nan\n",
        "}\n",
        "\n",
        "for subj in subject_cols:\n",
        "    encoded_col = subj.replace(\"Recently Released Semester Results \", \"\") + \"_Encoded\"\n",
        "    df[encoded_col] = df[subj].map(grade_map)\n",
        "\n"
      ]
    },
    {
      "cell_type": "code",
      "execution_count": 7,
      "metadata": {
        "id": "HEZ-nol3rn6g"
      },
      "outputs": [],
      "source": [
        "# Normalizing GPA\n",
        "\n",
        "from sklearn.preprocessing import MinMaxScaler\n",
        "\n",
        "gpa_col = \"What is your current GPA ? (If you don't know, you can leave this)\"\n",
        "df[gpa_col] = pd.to_numeric(df[gpa_col], errors='coerce')\n",
        "df[gpa_col] = df[gpa_col].fillna(df[gpa_col].mean())\n",
        "scaler = MinMaxScaler()\n",
        "df['GPA_Normalized'] = scaler.fit_transform(df[[gpa_col]])\n"
      ]
    },
    {
      "cell_type": "code",
      "execution_count": 8,
      "metadata": {
        "id": "WPS4ZuIn9DKM"
      },
      "outputs": [],
      "source": [
        "from sklearn.preprocessing import MinMaxScaler\n",
        "\n",
        "# Fit the scaler on raw GPA (not the normalized one)\n",
        "gpa_scaler = MinMaxScaler()\n",
        "df['GPA_Normalized'] = gpa_scaler.fit_transform(df[[gpa_col]])\n"
      ]
    },
    {
      "cell_type": "code",
      "execution_count": 9,
      "metadata": {
        "colab": {
          "base_uri": "https://localhost:8080/"
        },
        "id": "XGSQTuE7eFcb",
        "outputId": "edf7fc9f-35a2-4e04-a4cd-8a9067da3beb"
      },
      "outputs": [
        {
          "output_type": "stream",
          "name": "stdout",
          "text": [
            "Data shape after dropping missing Average_Grade: (108, 24)\n"
          ]
        }
      ],
      "source": [
        "# Create Target Variable as Average Grade of Subjects 1 to 4\n",
        "\n",
        "encoded_subject_cols = [col.replace(\"Recently Released Semester Results \", \"\") + \"_Encoded\" for col in subject_cols]\n",
        "\n",
        "df['Average_Grade'] = df[encoded_subject_cols].mean(axis=1)\n",
        "\n",
        "# Drop rows where Average_Grade is NaN (if any subject grade was missing/unmapped)\n",
        "df = df.dropna(subset=['Average_Grade'])\n",
        "print(f\"Data shape after dropping missing Average_Grade: {df.shape}\")\n"
      ]
    },
    {
      "cell_type": "code",
      "execution_count": 10,
      "metadata": {
        "colab": {
          "base_uri": "https://localhost:8080/"
        },
        "id": "XxUnusBOeI73",
        "outputId": "dddc886d-c6cb-46b9-b967-45b1c9f23bcb"
      },
      "outputs": [
        {
          "output_type": "stream",
          "name": "stdout",
          "text": [
            "Feature matrix shape: (108, 6)\n",
            "Target vector shape: (108,)\n"
          ]
        }
      ],
      "source": [
        "# Prepare Feature Matrix (X) and Target Vector (y)\n",
        "\n",
        "features = [\n",
        "    'Attendance_Encoded',\n",
        "    'StudyHours_Encoded',\n",
        "    'Assignments_Encoded',\n",
        "    'PartTimeJob_Encoded',\n",
        "    'Extracurriculars_Encoded',\n",
        "    'GPA_Normalized'\n",
        "]\n",
        "\n",
        "target = 'Average_Grade'\n",
        "\n",
        "X = df[features].values\n",
        "y = df[target].values\n",
        "\n",
        "print(f\"Feature matrix shape: {X.shape}\")\n",
        "print(f\"Target vector shape: {y.shape}\")"
      ]
    },
    {
      "cell_type": "code",
      "execution_count": 11,
      "metadata": {
        "id": "VnoUwU9SeMCW"
      },
      "outputs": [],
      "source": [
        "# Normalizing Features\n",
        "\n",
        "from sklearn.preprocessing import StandardScaler\n",
        "scaler = StandardScaler()\n",
        "X_scaled = scaler.fit_transform(X)\n"
      ]
    },
    {
      "cell_type": "code",
      "execution_count": 12,
      "metadata": {
        "id": "8xJYz_9zSRGh",
        "colab": {
          "base_uri": "https://localhost:8080/",
          "height": 17
        },
        "outputId": "a2759e5c-acd7-42a7-b2c6-1699c700228e"
      },
      "outputs": [
        {
          "output_type": "display_data",
          "data": {
            "text/plain": [
              "<IPython.core.display.Javascript object>"
            ],
            "application/javascript": [
              "\n",
              "    async function download(id, filename, size) {\n",
              "      if (!google.colab.kernel.accessAllowed) {\n",
              "        return;\n",
              "      }\n",
              "      const div = document.createElement('div');\n",
              "      const label = document.createElement('label');\n",
              "      label.textContent = `Downloading \"${filename}\": `;\n",
              "      div.appendChild(label);\n",
              "      const progress = document.createElement('progress');\n",
              "      progress.max = size;\n",
              "      div.appendChild(progress);\n",
              "      document.body.appendChild(div);\n",
              "\n",
              "      const buffers = [];\n",
              "      let downloaded = 0;\n",
              "\n",
              "      const channel = await google.colab.kernel.comms.open(id);\n",
              "      // Send a message to notify the kernel that we're ready.\n",
              "      channel.send({})\n",
              "\n",
              "      for await (const message of channel.messages) {\n",
              "        // Send a message to notify the kernel that we're ready.\n",
              "        channel.send({})\n",
              "        if (message.buffers) {\n",
              "          for (const buffer of message.buffers) {\n",
              "            buffers.push(buffer);\n",
              "            downloaded += buffer.byteLength;\n",
              "            progress.value = downloaded;\n",
              "          }\n",
              "        }\n",
              "      }\n",
              "      const blob = new Blob(buffers, {type: 'application/binary'});\n",
              "      const a = document.createElement('a');\n",
              "      a.href = window.URL.createObjectURL(blob);\n",
              "      a.download = filename;\n",
              "      div.appendChild(a);\n",
              "      a.click();\n",
              "      div.remove();\n",
              "    }\n",
              "  "
            ]
          },
          "metadata": {}
        },
        {
          "output_type": "display_data",
          "data": {
            "text/plain": [
              "<IPython.core.display.Javascript object>"
            ],
            "application/javascript": [
              "download(\"download_de4301cb-0427-437e-a100-0ce341913728\", \"preprocessed_model_data.csv\", 4838)"
            ]
          },
          "metadata": {}
        }
      ],
      "source": [
        "columns_to_save = features + [target]\n",
        "df[columns_to_save].to_csv('preprocessed_model_data.csv', index=False)\n",
        "\n",
        "# from google.colab import files\n",
        "\n",
        "files.download('preprocessed_model_data.csv')"
      ]
    }
  ],
  "metadata": {
    "colab": {
      "provenance": []
    },
    "kernelspec": {
      "display_name": "Python 3",
      "name": "python3"
    },
    "language_info": {
      "name": "python"
    }
  },
  "nbformat": 4,
  "nbformat_minor": 0
}