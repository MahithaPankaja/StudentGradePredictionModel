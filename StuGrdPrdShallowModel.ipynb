{
  "cells": [
    {
      "cell_type": "code",
      "execution_count": 1,
      "metadata": {
        "id": "JqC6I5H2TpaS"
      },
      "outputs": [],
      "source": [
        "import pandas as pd\n",
        "import numpy as np\n",
        "import tensorflow as tf\n",
        "from tensorflow import keras\n",
        "from sklearn.model_selection import train_test_split\n",
        "import matplotlib.pyplot as plt\n"
      ]
    },
    {
      "cell_type": "code",
      "execution_count": 2,
      "metadata": {
        "colab": {
          "base_uri": "https://localhost:8080/"
        },
        "id": "nRJXXVgVTuoy",
        "outputId": "ed4abe95-721d-407d-c9f5-cf900524db9d"
      },
      "outputs": [
        {
          "output_type": "stream",
          "name": "stdout",
          "text": [
            "   Attendance_Encoded  StudyHours_Encoded  Assignments_Encoded  \\\n",
            "0               0.825                15.0                    3   \n",
            "1               0.950                 5.0                    3   \n",
            "2               0.450                 5.0                    1   \n",
            "3               0.620                15.0                    2   \n",
            "4               0.950                 5.0                    3   \n",
            "\n",
            "   PartTimeJob_Encoded  Extracurriculars_Encoded  GPA_Normalized  \\\n",
            "0                    1                       0.5        0.190909   \n",
            "1                    0                       1.0        0.518182   \n",
            "2                    1                       0.0        0.476348   \n",
            "3                    0                       1.0        0.609091   \n",
            "4                    0                       0.0        0.476348   \n",
            "\n",
            "   Average_Grade  \n",
            "0       3.300000  \n",
            "1       2.925000  \n",
            "2       1.233333  \n",
            "3       3.000000  \n",
            "4       1.900000  \n"
          ]
        }
      ],
      "source": [
        "import os\n",
        "\n",
        "filename = 'preprocessed_model_data.csv'\n",
        "if not os.path.exists(filename):\n",
        "    from google.colab import files\n",
        "    print(f\"{filename} not found: please upload it now.\")\n",
        "    uploaded = files.upload()  # This will prompt upload if needed\n",
        "\n",
        "df = pd.read_csv(filename)\n",
        "print(df.head())\n"
      ]
    },
    {
      "cell_type": "code",
      "execution_count": 3,
      "metadata": {
        "id": "b2sEk_NHTwXC"
      },
      "outputs": [],
      "source": [
        "# Feature columns: all columns except the target\n",
        "features = [col for col in df.columns if col != 'Average_Grade']\n",
        "target = 'Average_Grade'\n",
        "\n",
        "X = df[features].values\n",
        "y = df[target].values\n"
      ]
    },
    {
      "cell_type": "code",
      "execution_count": 4,
      "metadata": {
        "colab": {
          "base_uri": "https://localhost:8080/"
        },
        "id": "nz15Kk-mWdQ7",
        "outputId": "63a20035-c43f-4d6a-a0db-49e13389f928"
      },
      "outputs": [
        {
          "output_type": "stream",
          "name": "stdout",
          "text": [
            "1 0\n"
          ]
        }
      ],
      "source": [
        "print(np.isnan(X).sum(), np.isnan(y).sum())\n"
      ]
    },
    {
      "cell_type": "code",
      "execution_count": 5,
      "metadata": {
        "id": "i16r0hodW5k4"
      },
      "outputs": [],
      "source": [
        "import numpy as np\n",
        "\n",
        "# Create DataFrame for features and target to easily drop any NaNs at once\n",
        "data = pd.DataFrame(X, columns=features)\n",
        "data['Average_Grade'] = y\n",
        "data = data.dropna()\n",
        "X = data[features].values\n",
        "y = data['Average_Grade'].values\n"
      ]
    },
    {
      "cell_type": "code",
      "execution_count": 6,
      "metadata": {
        "colab": {
          "base_uri": "https://localhost:8080/"
        },
        "id": "dk0mXDeNW6sa",
        "outputId": "11881757-8476-403c-d260-4172d3aa8141"
      },
      "outputs": [
        {
          "output_type": "stream",
          "name": "stdout",
          "text": [
            "True\n",
            "0 0\n"
          ]
        }
      ],
      "source": [
        "print(np.isfinite(X).all())\n",
        "# Should print True\n",
        "\n",
        "print(np.isnan(X).sum(), np.isnan(y).sum())\n",
        "# Should both print 0\n"
      ]
    },
    {
      "cell_type": "code",
      "execution_count": 7,
      "metadata": {
        "id": "8RBXWNmKXQT6"
      },
      "outputs": [],
      "source": [
        "df = df.dropna(subset=[target])\n"
      ]
    },
    {
      "cell_type": "code",
      "execution_count": 8,
      "metadata": {
        "colab": {
          "base_uri": "https://localhost:8080/"
        },
        "id": "WrmxD1HOXbtM",
        "outputId": "f7c471ed-61d4-41bf-c6d8-b84ee37a7a13"
      },
      "outputs": [
        {
          "output_type": "execute_result",
          "data": {
            "text/plain": [
              "<Dense name=dense, built=False>"
            ]
          },
          "metadata": {},
          "execution_count": 8
        }
      ],
      "source": [
        "keras.layers.Dense(1)  # no activation, defaults to 'linear'\n"
      ]
    },
    {
      "cell_type": "code",
      "execution_count": 9,
      "metadata": {
        "colab": {
          "base_uri": "https://localhost:8080/"
        },
        "id": "yWiNdCJUT_Ti",
        "outputId": "b5f2b430-6812-475e-8cd8-14e2f330215c"
      },
      "outputs": [
        {
          "output_type": "stream",
          "name": "stdout",
          "text": [
            "Train shape: (90, 6), (90,)\n",
            "Test shape: (17, 6), (17,)\n"
          ]
        }
      ],
      "source": [
        "# 85% training, 15% testing (adjust split if you prefer)\n",
        "X_train, X_test, y_train, y_test = train_test_split(\n",
        "    X, y, test_size=0.15, random_state=42\n",
        ")\n",
        "print(f\"Train shape: {X_train.shape}, {y_train.shape}\")\n",
        "print(f\"Test shape: {X_test.shape}, {y_test.shape}\")\n"
      ]
    },
    {
      "cell_type": "code",
      "execution_count": 10,
      "metadata": {
        "colab": {
          "base_uri": "https://localhost:8080/"
        },
        "id": "xzKoAHDCXmfy",
        "outputId": "e47652a8-d7a6-49db-9d13-f3ec8dbd0d48"
      },
      "outputs": [
        {
          "output_type": "stream",
          "name": "stdout",
          "text": [
            "0 0\n",
            "0 0\n"
          ]
        }
      ],
      "source": [
        "print(np.isnan(X_train).sum(), np.isnan(y_train).sum())\n",
        "print(np.isinf(X_train).sum(), np.isinf(y_train).sum())\n",
        "# all should print 0\n"
      ]
    },
    {
      "cell_type": "code",
      "execution_count": 11,
      "metadata": {
        "colab": {
          "base_uri": "https://localhost:8080/"
        },
        "id": "_7KpstXrXp8p",
        "outputId": "a28fca99-641d-4979-814a-86c0fa8f5473"
      },
      "outputs": [
        {
          "output_type": "stream",
          "name": "stdout",
          "text": [
            "Attendance_Encoded          0\n",
            "StudyHours_Encoded          1\n",
            "Assignments_Encoded         0\n",
            "PartTimeJob_Encoded         0\n",
            "Extracurriculars_Encoded    0\n",
            "GPA_Normalized              0\n",
            "Average_Grade               0\n",
            "dtype: int64\n"
          ]
        }
      ],
      "source": [
        "print(df[features + [target]].isnull().sum())\n"
      ]
    },
    {
      "cell_type": "code",
      "execution_count": 12,
      "metadata": {
        "id": "y4WGoHXBhaY2"
      },
      "outputs": [],
      "source": [
        "df['StudyHours_Encoded'] = df['StudyHours_Encoded'].fillna(df['StudyHours_Encoded'].mean())\n"
      ]
    },
    {
      "cell_type": "code",
      "execution_count": 13,
      "metadata": {
        "colab": {
          "base_uri": "https://localhost:8080/"
        },
        "id": "EZdeg7yjhfzr",
        "outputId": "ce56f0aa-516a-4575-c793-29e455b54e3b"
      },
      "outputs": [
        {
          "output_type": "stream",
          "name": "stdout",
          "text": [
            "Attendance_Encoded          0\n",
            "StudyHours_Encoded          0\n",
            "Assignments_Encoded         0\n",
            "PartTimeJob_Encoded         0\n",
            "Extracurriculars_Encoded    0\n",
            "GPA_Normalized              0\n",
            "Average_Grade               0\n",
            "dtype: int64\n"
          ]
        }
      ],
      "source": [
        "print(df[features + [target]].isnull().sum())"
      ]
    },
    {
      "cell_type": "code",
      "execution_count": 14,
      "metadata": {
        "colab": {
          "base_uri": "https://localhost:8080/"
        },
        "id": "S08MP1h8UMwZ",
        "outputId": "271f9fca-2997-41c8-b2ef-ce0e409f5396"
      },
      "outputs": [
        {
          "output_type": "stream",
          "name": "stderr",
          "text": [
            "/usr/local/lib/python3.12/dist-packages/keras/src/layers/core/dense.py:93: UserWarning: Do not pass an `input_shape`/`input_dim` argument to a layer. When using Sequential models, prefer using an `Input(shape)` object as the first layer in the model instead.\n",
            "  super().__init__(activity_regularizer=activity_regularizer, **kwargs)\n"
          ]
        }
      ],
      "source": [
        "# Model Architecture1: Shallow MLP\n",
        "\n",
        "model = keras.Sequential([\n",
        "    keras.layers.Dense(16, activation='relu', input_shape=(X_train.shape[1],)),\n",
        "    keras.layers.Dense(8, activation='relu'),\n",
        "    keras.layers.Dense(1)\n",
        "])\n"
      ]
    },
    {
      "cell_type": "code",
      "execution_count": 15,
      "metadata": {
        "id": "BVlkoqoGUShx"
      },
      "outputs": [],
      "source": [
        "model.compile(optimizer='adam', loss='mse', metrics=['mae'])\n",
        "\n",
        "# Experimentable with different optimizers (Adam, SGD, RMSprop, Adagrad, Adadelta, Adamax, Nadam)"
      ]
    },
    {
      "cell_type": "code",
      "execution_count": 16,
      "metadata": {
        "colab": {
          "base_uri": "https://localhost:8080/"
        },
        "collapsed": true,
        "id": "0Wbx3H-p5JFs",
        "outputId": "832c348c-6d16-4761-89b9-d069a2322f31"
      },
      "outputs": [
        {
          "output_type": "stream",
          "name": "stdout",
          "text": [
            "Epoch 1/500\n",
            "\u001b[1m8/8\u001b[0m \u001b[32m━━━━━━━━━━━━━━━━━━━━\u001b[0m\u001b[37m\u001b[0m \u001b[1m3s\u001b[0m 86ms/step - loss: 12.1705 - mae: 2.6174 - val_loss: 16.3847 - val_mae: 3.2055\n",
            "Epoch 2/500\n",
            "\u001b[1m8/8\u001b[0m \u001b[32m━━━━━━━━━━━━━━━━━━━━\u001b[0m\u001b[37m\u001b[0m \u001b[1m1s\u001b[0m 28ms/step - loss: 8.2305 - mae: 2.1584 - val_loss: 12.1369 - val_mae: 2.7696\n",
            "Epoch 3/500\n",
            "\u001b[1m8/8\u001b[0m \u001b[32m━━━━━━━━━━━━━━━━━━━━\u001b[0m\u001b[37m\u001b[0m \u001b[1m0s\u001b[0m 36ms/step - loss: 7.2118 - mae: 2.0646 - val_loss: 9.0566 - val_mae: 2.3716\n",
            "Epoch 4/500\n",
            "\u001b[1m8/8\u001b[0m \u001b[32m━━━━━━━━━━━━━━━━━━━━\u001b[0m\u001b[37m\u001b[0m \u001b[1m1s\u001b[0m 29ms/step - loss: 3.8729 - mae: 1.4943 - val_loss: 7.0306 - val_mae: 2.0568\n",
            "Epoch 5/500\n",
            "\u001b[1m8/8\u001b[0m \u001b[32m━━━━━━━━━━━━━━━━━━━━\u001b[0m\u001b[37m\u001b[0m \u001b[1m0s\u001b[0m 22ms/step - loss: 2.6804 - mae: 1.2055 - val_loss: 5.6070 - val_mae: 1.7999\n",
            "Epoch 6/500\n",
            "\u001b[1m8/8\u001b[0m \u001b[32m━━━━━━━━━━━━━━━━━━━━\u001b[0m\u001b[37m\u001b[0m \u001b[1m0s\u001b[0m 20ms/step - loss: 3.3719 - mae: 1.2723 - val_loss: 4.5298 - val_mae: 1.6238\n",
            "Epoch 7/500\n",
            "\u001b[1m8/8\u001b[0m \u001b[32m━━━━━━━━━━━━━━━━━━━━\u001b[0m\u001b[37m\u001b[0m \u001b[1m0s\u001b[0m 11ms/step - loss: 1.7895 - mae: 0.9616 - val_loss: 3.8031 - val_mae: 1.4980\n",
            "Epoch 8/500\n",
            "\u001b[1m8/8\u001b[0m \u001b[32m━━━━━━━━━━━━━━━━━━━━\u001b[0m\u001b[37m\u001b[0m \u001b[1m0s\u001b[0m 11ms/step - loss: 1.5789 - mae: 0.9332 - val_loss: 3.1951 - val_mae: 1.3756\n",
            "Epoch 9/500\n",
            "\u001b[1m8/8\u001b[0m \u001b[32m━━━━━━━━━━━━━━━━━━━━\u001b[0m\u001b[37m\u001b[0m \u001b[1m0s\u001b[0m 11ms/step - loss: 1.4065 - mae: 0.8402 - val_loss: 2.6526 - val_mae: 1.2686\n",
            "Epoch 10/500\n",
            "\u001b[1m8/8\u001b[0m \u001b[32m━━━━━━━━━━━━━━━━━━━━\u001b[0m\u001b[37m\u001b[0m \u001b[1m0s\u001b[0m 10ms/step - loss: 0.9747 - mae: 0.7538 - val_loss: 2.2691 - val_mae: 1.1863\n",
            "Epoch 11/500\n",
            "\u001b[1m8/8\u001b[0m \u001b[32m━━━━━━━━━━━━━━━━━━━━\u001b[0m\u001b[37m\u001b[0m \u001b[1m0s\u001b[0m 11ms/step - loss: 1.1006 - mae: 0.7955 - val_loss: 1.9544 - val_mae: 1.1010\n",
            "Epoch 12/500\n",
            "\u001b[1m8/8\u001b[0m \u001b[32m━━━━━━━━━━━━━━━━━━━━\u001b[0m\u001b[37m\u001b[0m \u001b[1m0s\u001b[0m 11ms/step - loss: 0.7845 - mae: 0.6927 - val_loss: 1.7475 - val_mae: 1.0608\n",
            "Epoch 13/500\n",
            "\u001b[1m8/8\u001b[0m \u001b[32m━━━━━━━━━━━━━━━━━━━━\u001b[0m\u001b[37m\u001b[0m \u001b[1m0s\u001b[0m 11ms/step - loss: 0.8098 - mae: 0.7153 - val_loss: 1.5541 - val_mae: 0.9962\n",
            "Epoch 14/500\n",
            "\u001b[1m8/8\u001b[0m \u001b[32m━━━━━━━━━━━━━━━━━━━━\u001b[0m\u001b[37m\u001b[0m \u001b[1m0s\u001b[0m 10ms/step - loss: 0.7251 - mae: 0.7030 - val_loss: 1.3919 - val_mae: 0.9428\n",
            "Epoch 15/500\n",
            "\u001b[1m8/8\u001b[0m \u001b[32m━━━━━━━━━━━━━━━━━━━━\u001b[0m\u001b[37m\u001b[0m \u001b[1m0s\u001b[0m 10ms/step - loss: 0.7955 - mae: 0.6746 - val_loss: 1.2436 - val_mae: 0.8885\n",
            "Epoch 16/500\n",
            "\u001b[1m8/8\u001b[0m \u001b[32m━━━━━━━━━━━━━━━━━━━━\u001b[0m\u001b[37m\u001b[0m \u001b[1m0s\u001b[0m 11ms/step - loss: 0.8230 - mae: 0.7071 - val_loss: 1.1066 - val_mae: 0.8402\n",
            "Epoch 17/500\n",
            "\u001b[1m8/8\u001b[0m \u001b[32m━━━━━━━━━━━━━━━━━━━━\u001b[0m\u001b[37m\u001b[0m \u001b[1m0s\u001b[0m 11ms/step - loss: 0.6273 - mae: 0.6375 - val_loss: 0.9986 - val_mae: 0.7999\n",
            "Epoch 18/500\n",
            "\u001b[1m8/8\u001b[0m \u001b[32m━━━━━━━━━━━━━━━━━━━━\u001b[0m\u001b[37m\u001b[0m \u001b[1m0s\u001b[0m 11ms/step - loss: 0.5542 - mae: 0.5921 - val_loss: 0.9080 - val_mae: 0.7666\n",
            "Epoch 19/500\n",
            "\u001b[1m8/8\u001b[0m \u001b[32m━━━━━━━━━━━━━━━━━━━━\u001b[0m\u001b[37m\u001b[0m \u001b[1m0s\u001b[0m 11ms/step - loss: 0.5221 - mae: 0.5910 - val_loss: 0.8659 - val_mae: 0.7377\n",
            "Epoch 20/500\n",
            "\u001b[1m8/8\u001b[0m \u001b[32m━━━━━━━━━━━━━━━━━━━━\u001b[0m\u001b[37m\u001b[0m \u001b[1m0s\u001b[0m 11ms/step - loss: 0.4824 - mae: 0.5700 - val_loss: 0.8139 - val_mae: 0.7112\n",
            "Epoch 21/500\n",
            "\u001b[1m8/8\u001b[0m \u001b[32m━━━━━━━━━━━━━━━━━━━━\u001b[0m\u001b[37m\u001b[0m \u001b[1m0s\u001b[0m 11ms/step - loss: 0.5289 - mae: 0.6009 - val_loss: 0.7497 - val_mae: 0.6880\n",
            "Epoch 22/500\n",
            "\u001b[1m8/8\u001b[0m \u001b[32m━━━━━━━━━━━━━━━━━━━━\u001b[0m\u001b[37m\u001b[0m \u001b[1m0s\u001b[0m 11ms/step - loss: 0.4264 - mae: 0.5260 - val_loss: 0.7072 - val_mae: 0.6736\n",
            "Epoch 23/500\n",
            "\u001b[1m8/8\u001b[0m \u001b[32m━━━━━━━━━━━━━━━━━━━━\u001b[0m\u001b[37m\u001b[0m \u001b[1m0s\u001b[0m 11ms/step - loss: 0.4863 - mae: 0.5824 - val_loss: 0.6835 - val_mae: 0.6708\n",
            "Epoch 24/500\n",
            "\u001b[1m8/8\u001b[0m \u001b[32m━━━━━━━━━━━━━━━━━━━━\u001b[0m\u001b[37m\u001b[0m \u001b[1m0s\u001b[0m 10ms/step - loss: 0.4523 - mae: 0.5592 - val_loss: 0.6646 - val_mae: 0.6610\n",
            "Epoch 25/500\n",
            "\u001b[1m8/8\u001b[0m \u001b[32m━━━━━━━━━━━━━━━━━━━━\u001b[0m\u001b[37m\u001b[0m \u001b[1m0s\u001b[0m 11ms/step - loss: 0.4191 - mae: 0.5297 - val_loss: 0.6506 - val_mae: 0.6426\n",
            "Epoch 26/500\n",
            "\u001b[1m8/8\u001b[0m \u001b[32m━━━━━━━━━━━━━━━━━━━━\u001b[0m\u001b[37m\u001b[0m \u001b[1m0s\u001b[0m 11ms/step - loss: 0.4248 - mae: 0.5429 - val_loss: 0.6303 - val_mae: 0.6436\n",
            "Epoch 27/500\n",
            "\u001b[1m8/8\u001b[0m \u001b[32m━━━━━━━━━━━━━━━━━━━━\u001b[0m\u001b[37m\u001b[0m \u001b[1m0s\u001b[0m 11ms/step - loss: 0.4108 - mae: 0.5182 - val_loss: 0.6087 - val_mae: 0.6181\n",
            "Epoch 28/500\n",
            "\u001b[1m8/8\u001b[0m \u001b[32m━━━━━━━━━━━━━━━━━━━━\u001b[0m\u001b[37m\u001b[0m \u001b[1m0s\u001b[0m 17ms/step - loss: 0.4315 - mae: 0.5518 - val_loss: 0.5597 - val_mae: 0.5937\n",
            "Epoch 29/500\n",
            "\u001b[1m8/8\u001b[0m \u001b[32m━━━━━━━━━━━━━━━━━━━━\u001b[0m\u001b[37m\u001b[0m \u001b[1m0s\u001b[0m 10ms/step - loss: 0.3535 - mae: 0.4845 - val_loss: 0.5384 - val_mae: 0.5758\n",
            "Epoch 30/500\n",
            "\u001b[1m8/8\u001b[0m \u001b[32m━━━━━━━━━━━━━━━━━━━━\u001b[0m\u001b[37m\u001b[0m \u001b[1m0s\u001b[0m 17ms/step - loss: 0.3507 - mae: 0.5051 - val_loss: 0.6049 - val_mae: 0.5843\n",
            "Epoch 31/500\n",
            "\u001b[1m8/8\u001b[0m \u001b[32m━━━━━━━━━━━━━━━━━━━━\u001b[0m\u001b[37m\u001b[0m \u001b[1m0s\u001b[0m 20ms/step - loss: 0.4073 - mae: 0.5386 - val_loss: 0.5416 - val_mae: 0.5676\n",
            "Epoch 32/500\n",
            "\u001b[1m8/8\u001b[0m \u001b[32m━━━━━━━━━━━━━━━━━━━━\u001b[0m\u001b[37m\u001b[0m \u001b[1m0s\u001b[0m 20ms/step - loss: 0.3421 - mae: 0.4949 - val_loss: 0.5198 - val_mae: 0.5586\n",
            "Epoch 33/500\n",
            "\u001b[1m8/8\u001b[0m \u001b[32m━━━━━━━━━━━━━━━━━━━━\u001b[0m\u001b[37m\u001b[0m \u001b[1m0s\u001b[0m 19ms/step - loss: 0.3708 - mae: 0.5151 - val_loss: 0.5294 - val_mae: 0.5531\n",
            "Epoch 34/500\n",
            "\u001b[1m8/8\u001b[0m \u001b[32m━━━━━━━━━━━━━━━━━━━━\u001b[0m\u001b[37m\u001b[0m \u001b[1m0s\u001b[0m 21ms/step - loss: 0.3804 - mae: 0.5315 - val_loss: 0.4767 - val_mae: 0.5420\n",
            "Epoch 35/500\n",
            "\u001b[1m8/8\u001b[0m \u001b[32m━━━━━━━━━━━━━━━━━━━━\u001b[0m\u001b[37m\u001b[0m \u001b[1m0s\u001b[0m 21ms/step - loss: 0.3859 - mae: 0.5389 - val_loss: 0.4671 - val_mae: 0.5367\n",
            "Epoch 36/500\n",
            "\u001b[1m8/8\u001b[0m \u001b[32m━━━━━━━━━━━━━━━━━━━━\u001b[0m\u001b[37m\u001b[0m \u001b[1m0s\u001b[0m 19ms/step - loss: 0.3589 - mae: 0.5044 - val_loss: 0.4652 - val_mae: 0.5305\n",
            "Epoch 37/500\n",
            "\u001b[1m8/8\u001b[0m \u001b[32m━━━━━━━━━━━━━━━━━━━━\u001b[0m\u001b[37m\u001b[0m \u001b[1m0s\u001b[0m 10ms/step - loss: 0.3678 - mae: 0.5163 - val_loss: 0.4668 - val_mae: 0.5260\n",
            "Epoch 38/500\n",
            "\u001b[1m8/8\u001b[0m \u001b[32m━━━━━━━━━━━━━━━━━━━━\u001b[0m\u001b[37m\u001b[0m \u001b[1m0s\u001b[0m 10ms/step - loss: 0.2654 - mae: 0.4310 - val_loss: 0.4694 - val_mae: 0.5293\n",
            "Epoch 39/500\n",
            "\u001b[1m8/8\u001b[0m \u001b[32m━━━━━━━━━━━━━━━━━━━━\u001b[0m\u001b[37m\u001b[0m \u001b[1m0s\u001b[0m 12ms/step - loss: 0.3192 - mae: 0.4812 - val_loss: 0.4439 - val_mae: 0.5221\n",
            "Epoch 40/500\n",
            "\u001b[1m8/8\u001b[0m \u001b[32m━━━━━━━━━━━━━━━━━━━━\u001b[0m\u001b[37m\u001b[0m \u001b[1m0s\u001b[0m 11ms/step - loss: 0.2944 - mae: 0.4572 - val_loss: 0.4362 - val_mae: 0.5241\n",
            "Epoch 41/500\n",
            "\u001b[1m8/8\u001b[0m \u001b[32m━━━━━━━━━━━━━━━━━━━━\u001b[0m\u001b[37m\u001b[0m \u001b[1m0s\u001b[0m 11ms/step - loss: 0.3035 - mae: 0.4631 - val_loss: 0.4318 - val_mae: 0.5208\n",
            "Epoch 42/500\n",
            "\u001b[1m8/8\u001b[0m \u001b[32m━━━━━━━━━━━━━━━━━━━━\u001b[0m\u001b[37m\u001b[0m \u001b[1m0s\u001b[0m 11ms/step - loss: 0.3618 - mae: 0.5105 - val_loss: 0.4290 - val_mae: 0.5195\n",
            "Epoch 43/500\n",
            "\u001b[1m8/8\u001b[0m \u001b[32m━━━━━━━━━━━━━━━━━━━━\u001b[0m\u001b[37m\u001b[0m \u001b[1m0s\u001b[0m 10ms/step - loss: 0.2955 - mae: 0.4566 - val_loss: 0.4176 - val_mae: 0.5150\n",
            "Epoch 44/500\n",
            "\u001b[1m8/8\u001b[0m \u001b[32m━━━━━━━━━━━━━━━━━━━━\u001b[0m\u001b[37m\u001b[0m \u001b[1m0s\u001b[0m 11ms/step - loss: 0.3003 - mae: 0.4708 - val_loss: 0.4781 - val_mae: 0.5352\n",
            "Epoch 45/500\n",
            "\u001b[1m8/8\u001b[0m \u001b[32m━━━━━━━━━━━━━━━━━━━━\u001b[0m\u001b[37m\u001b[0m \u001b[1m0s\u001b[0m 12ms/step - loss: 0.3028 - mae: 0.4593 - val_loss: 0.4050 - val_mae: 0.5074\n",
            "Epoch 46/500\n",
            "\u001b[1m8/8\u001b[0m \u001b[32m━━━━━━━━━━━━━━━━━━━━\u001b[0m\u001b[37m\u001b[0m \u001b[1m0s\u001b[0m 10ms/step - loss: 0.2873 - mae: 0.4594 - val_loss: 0.4218 - val_mae: 0.5154\n",
            "Epoch 47/500\n",
            "\u001b[1m8/8\u001b[0m \u001b[32m━━━━━━━━━━━━━━━━━━━━\u001b[0m\u001b[37m\u001b[0m \u001b[1m0s\u001b[0m 10ms/step - loss: 0.2907 - mae: 0.4720 - val_loss: 0.4408 - val_mae: 0.5226\n",
            "Epoch 48/500\n",
            "\u001b[1m8/8\u001b[0m \u001b[32m━━━━━━━━━━━━━━━━━━━━\u001b[0m\u001b[37m\u001b[0m \u001b[1m0s\u001b[0m 10ms/step - loss: 0.2847 - mae: 0.4524 - val_loss: 0.4083 - val_mae: 0.5088\n",
            "Epoch 49/500\n",
            "\u001b[1m8/8\u001b[0m \u001b[32m━━━━━━━━━━━━━━━━━━━━\u001b[0m\u001b[37m\u001b[0m \u001b[1m0s\u001b[0m 11ms/step - loss: 0.3087 - mae: 0.4650 - val_loss: 0.4379 - val_mae: 0.5254\n",
            "Epoch 50/500\n",
            "\u001b[1m8/8\u001b[0m \u001b[32m━━━━━━━━━━━━━━━━━━━━\u001b[0m\u001b[37m\u001b[0m \u001b[1m0s\u001b[0m 11ms/step - loss: 0.3353 - mae: 0.4931 - val_loss: 0.4123 - val_mae: 0.5228\n",
            "Epoch 51/500\n",
            "\u001b[1m8/8\u001b[0m \u001b[32m━━━━━━━━━━━━━━━━━━━━\u001b[0m\u001b[37m\u001b[0m \u001b[1m0s\u001b[0m 11ms/step - loss: 0.3118 - mae: 0.4732 - val_loss: 0.3956 - val_mae: 0.5183\n",
            "Epoch 52/500\n",
            "\u001b[1m8/8\u001b[0m \u001b[32m━━━━━━━━━━━━━━━━━━━━\u001b[0m\u001b[37m\u001b[0m \u001b[1m0s\u001b[0m 10ms/step - loss: 0.3497 - mae: 0.4987 - val_loss: 0.3712 - val_mae: 0.5014\n",
            "Epoch 53/500\n",
            "\u001b[1m8/8\u001b[0m \u001b[32m━━━━━━━━━━━━━━━━━━━━\u001b[0m\u001b[37m\u001b[0m \u001b[1m0s\u001b[0m 11ms/step - loss: 0.2680 - mae: 0.4350 - val_loss: 0.4321 - val_mae: 0.5287\n",
            "Epoch 54/500\n",
            "\u001b[1m8/8\u001b[0m \u001b[32m━━━━━━━━━━━━━━━━━━━━\u001b[0m\u001b[37m\u001b[0m \u001b[1m0s\u001b[0m 20ms/step - loss: 0.2683 - mae: 0.4467 - val_loss: 0.4276 - val_mae: 0.5277\n",
            "Epoch 55/500\n",
            "\u001b[1m8/8\u001b[0m \u001b[32m━━━━━━━━━━━━━━━━━━━━\u001b[0m\u001b[37m\u001b[0m \u001b[1m0s\u001b[0m 21ms/step - loss: 0.3051 - mae: 0.4758 - val_loss: 0.3647 - val_mae: 0.4989\n",
            "Epoch 56/500\n",
            "\u001b[1m8/8\u001b[0m \u001b[32m━━━━━━━━━━━━━━━━━━━━\u001b[0m\u001b[37m\u001b[0m \u001b[1m0s\u001b[0m 16ms/step - loss: 0.3404 - mae: 0.4784 - val_loss: 0.4070 - val_mae: 0.5238\n",
            "Epoch 57/500\n",
            "\u001b[1m8/8\u001b[0m \u001b[32m━━━━━━━━━━━━━━━━━━━━\u001b[0m\u001b[37m\u001b[0m \u001b[1m0s\u001b[0m 11ms/step - loss: 0.2369 - mae: 0.4054 - val_loss: 0.3954 - val_mae: 0.5205\n",
            "Epoch 58/500\n",
            "\u001b[1m8/8\u001b[0m \u001b[32m━━━━━━━━━━━━━━━━━━━━\u001b[0m\u001b[37m\u001b[0m \u001b[1m0s\u001b[0m 10ms/step - loss: 0.2983 - mae: 0.4783 - val_loss: 0.3882 - val_mae: 0.5193\n",
            "Epoch 59/500\n",
            "\u001b[1m8/8\u001b[0m \u001b[32m━━━━━━━━━━━━━━━━━━━━\u001b[0m\u001b[37m\u001b[0m \u001b[1m0s\u001b[0m 10ms/step - loss: 0.2500 - mae: 0.4234 - val_loss: 0.3886 - val_mae: 0.5198\n",
            "Epoch 60/500\n",
            "\u001b[1m8/8\u001b[0m \u001b[32m━━━━━━━━━━━━━━━━━━━━\u001b[0m\u001b[37m\u001b[0m \u001b[1m0s\u001b[0m 10ms/step - loss: 0.2531 - mae: 0.4291 - val_loss: 0.4131 - val_mae: 0.5265\n",
            "Epoch 61/500\n",
            "\u001b[1m8/8\u001b[0m \u001b[32m━━━━━━━━━━━━━━━━━━━━\u001b[0m\u001b[37m\u001b[0m \u001b[1m0s\u001b[0m 10ms/step - loss: 0.2993 - mae: 0.4722 - val_loss: 0.3899 - val_mae: 0.5215\n",
            "Epoch 62/500\n",
            "\u001b[1m8/8\u001b[0m \u001b[32m━━━━━━━━━━━━━━━━━━━━\u001b[0m\u001b[37m\u001b[0m \u001b[1m0s\u001b[0m 10ms/step - loss: 0.2776 - mae: 0.4604 - val_loss: 0.3673 - val_mae: 0.5082\n",
            "Epoch 63/500\n",
            "\u001b[1m8/8\u001b[0m \u001b[32m━━━━━━━━━━━━━━━━━━━━\u001b[0m\u001b[37m\u001b[0m \u001b[1m0s\u001b[0m 11ms/step - loss: 0.2481 - mae: 0.4252 - val_loss: 0.4439 - val_mae: 0.5375\n",
            "Epoch 64/500\n",
            "\u001b[1m8/8\u001b[0m \u001b[32m━━━━━━━━━━━━━━━━━━━━\u001b[0m\u001b[37m\u001b[0m \u001b[1m0s\u001b[0m 10ms/step - loss: 0.2593 - mae: 0.4447 - val_loss: 0.4071 - val_mae: 0.5233\n",
            "Epoch 65/500\n",
            "\u001b[1m8/8\u001b[0m \u001b[32m━━━━━━━━━━━━━━━━━━━━\u001b[0m\u001b[37m\u001b[0m \u001b[1m0s\u001b[0m 10ms/step - loss: 0.2683 - mae: 0.4458 - val_loss: 0.3658 - val_mae: 0.5104\n",
            "Epoch 66/500\n",
            "\u001b[1m8/8\u001b[0m \u001b[32m━━━━━━━━━━━━━━━━━━━━\u001b[0m\u001b[37m\u001b[0m \u001b[1m0s\u001b[0m 16ms/step - loss: 0.2994 - mae: 0.4610 - val_loss: 0.3817 - val_mae: 0.5160\n",
            "Epoch 67/500\n",
            "\u001b[1m8/8\u001b[0m \u001b[32m━━━━━━━━━━━━━━━━━━━━\u001b[0m\u001b[37m\u001b[0m \u001b[1m0s\u001b[0m 12ms/step - loss: 0.2603 - mae: 0.4308 - val_loss: 0.4526 - val_mae: 0.5419\n",
            "Epoch 68/500\n",
            "\u001b[1m8/8\u001b[0m \u001b[32m━━━━━━━━━━━━━━━━━━━━\u001b[0m\u001b[37m\u001b[0m \u001b[1m0s\u001b[0m 11ms/step - loss: 0.2918 - mae: 0.4411 - val_loss: 0.3814 - val_mae: 0.5159\n",
            "Epoch 69/500\n",
            "\u001b[1m8/8\u001b[0m \u001b[32m━━━━━━━━━━━━━━━━━━━━\u001b[0m\u001b[37m\u001b[0m \u001b[1m0s\u001b[0m 10ms/step - loss: 0.2921 - mae: 0.4619 - val_loss: 0.3671 - val_mae: 0.5100\n",
            "Epoch 70/500\n",
            "\u001b[1m8/8\u001b[0m \u001b[32m━━━━━━━━━━━━━━━━━━━━\u001b[0m\u001b[37m\u001b[0m \u001b[1m0s\u001b[0m 11ms/step - loss: 0.3214 - mae: 0.4893 - val_loss: 0.4497 - val_mae: 0.5413\n",
            "Epoch 71/500\n",
            "\u001b[1m8/8\u001b[0m \u001b[32m━━━━━━━━━━━━━━━━━━━━\u001b[0m\u001b[37m\u001b[0m \u001b[1m0s\u001b[0m 11ms/step - loss: 0.2124 - mae: 0.3836 - val_loss: 0.3511 - val_mae: 0.5030\n",
            "Epoch 72/500\n",
            "\u001b[1m8/8\u001b[0m \u001b[32m━━━━━━━━━━━━━━━━━━━━\u001b[0m\u001b[37m\u001b[0m \u001b[1m0s\u001b[0m 11ms/step - loss: 0.2642 - mae: 0.4317 - val_loss: 0.3962 - val_mae: 0.5201\n",
            "Epoch 73/500\n",
            "\u001b[1m8/8\u001b[0m \u001b[32m━━━━━━━━━━━━━━━━━━━━\u001b[0m\u001b[37m\u001b[0m \u001b[1m0s\u001b[0m 10ms/step - loss: 0.2319 - mae: 0.4059 - val_loss: 0.3791 - val_mae: 0.5128\n",
            "Epoch 74/500\n",
            "\u001b[1m8/8\u001b[0m \u001b[32m━━━━━━━━━━━━━━━━━━━━\u001b[0m\u001b[37m\u001b[0m \u001b[1m0s\u001b[0m 11ms/step - loss: 0.2591 - mae: 0.4287 - val_loss: 0.3678 - val_mae: 0.5091\n",
            "Epoch 75/500\n",
            "\u001b[1m8/8\u001b[0m \u001b[32m━━━━━━━━━━━━━━━━━━━━\u001b[0m\u001b[37m\u001b[0m \u001b[1m0s\u001b[0m 10ms/step - loss: 0.2490 - mae: 0.4177 - val_loss: 0.3526 - val_mae: 0.5029\n",
            "Epoch 76/500\n",
            "\u001b[1m8/8\u001b[0m \u001b[32m━━━━━━━━━━━━━━━━━━━━\u001b[0m\u001b[37m\u001b[0m \u001b[1m0s\u001b[0m 12ms/step - loss: 0.2589 - mae: 0.4403 - val_loss: 0.3688 - val_mae: 0.5092\n",
            "Epoch 77/500\n",
            "\u001b[1m8/8\u001b[0m \u001b[32m━━━━━━━━━━━━━━━━━━━━\u001b[0m\u001b[37m\u001b[0m \u001b[1m0s\u001b[0m 11ms/step - loss: 0.2622 - mae: 0.4338 - val_loss: 0.3955 - val_mae: 0.5182\n",
            "Epoch 78/500\n",
            "\u001b[1m8/8\u001b[0m \u001b[32m━━━━━━━━━━━━━━━━━━━━\u001b[0m\u001b[37m\u001b[0m \u001b[1m0s\u001b[0m 10ms/step - loss: 0.2965 - mae: 0.4756 - val_loss: 0.3910 - val_mae: 0.5158\n",
            "Epoch 79/500\n",
            "\u001b[1m8/8\u001b[0m \u001b[32m━━━━━━━━━━━━━━━━━━━━\u001b[0m\u001b[37m\u001b[0m \u001b[1m0s\u001b[0m 10ms/step - loss: 0.2513 - mae: 0.4251 - val_loss: 0.3690 - val_mae: 0.5036\n",
            "Epoch 80/500\n",
            "\u001b[1m8/8\u001b[0m \u001b[32m━━━━━━━━━━━━━━━━━━━━\u001b[0m\u001b[37m\u001b[0m \u001b[1m0s\u001b[0m 11ms/step - loss: 0.2529 - mae: 0.4181 - val_loss: 0.4085 - val_mae: 0.5182\n",
            "Epoch 81/500\n",
            "\u001b[1m8/8\u001b[0m \u001b[32m━━━━━━━━━━━━━━━━━━━━\u001b[0m\u001b[37m\u001b[0m \u001b[1m0s\u001b[0m 10ms/step - loss: 0.2349 - mae: 0.4169 - val_loss: 0.3735 - val_mae: 0.5078\n",
            "Epoch 82/500\n",
            "\u001b[1m8/8\u001b[0m \u001b[32m━━━━━━━━━━━━━━━━━━━━\u001b[0m\u001b[37m\u001b[0m \u001b[1m0s\u001b[0m 10ms/step - loss: 0.2504 - mae: 0.4207 - val_loss: 0.3724 - val_mae: 0.5088\n",
            "Epoch 83/500\n",
            "\u001b[1m8/8\u001b[0m \u001b[32m━━━━━━━━━━━━━━━━━━━━\u001b[0m\u001b[37m\u001b[0m \u001b[1m0s\u001b[0m 10ms/step - loss: 0.3004 - mae: 0.4674 - val_loss: 0.3804 - val_mae: 0.5123\n",
            "Epoch 84/500\n",
            "\u001b[1m8/8\u001b[0m \u001b[32m━━━━━━━━━━━━━━━━━━━━\u001b[0m\u001b[37m\u001b[0m \u001b[1m0s\u001b[0m 12ms/step - loss: 0.2523 - mae: 0.4156 - val_loss: 0.3515 - val_mae: 0.5015\n",
            "Epoch 85/500\n",
            "\u001b[1m8/8\u001b[0m \u001b[32m━━━━━━━━━━━━━━━━━━━━\u001b[0m\u001b[37m\u001b[0m \u001b[1m0s\u001b[0m 10ms/step - loss: 0.2656 - mae: 0.4309 - val_loss: 0.3727 - val_mae: 0.5114\n",
            "Epoch 86/500\n",
            "\u001b[1m8/8\u001b[0m \u001b[32m━━━━━━━━━━━━━━━━━━━━\u001b[0m\u001b[37m\u001b[0m \u001b[1m0s\u001b[0m 10ms/step - loss: 0.2538 - mae: 0.4215 - val_loss: 0.4010 - val_mae: 0.5202\n",
            "Epoch 87/500\n",
            "\u001b[1m8/8\u001b[0m \u001b[32m━━━━━━━━━━━━━━━━━━━━\u001b[0m\u001b[37m\u001b[0m \u001b[1m0s\u001b[0m 10ms/step - loss: 0.2609 - mae: 0.4329 - val_loss: 0.3687 - val_mae: 0.5087\n",
            "Epoch 88/500\n",
            "\u001b[1m8/8\u001b[0m \u001b[32m━━━━━━━━━━━━━━━━━━━━\u001b[0m\u001b[37m\u001b[0m \u001b[1m0s\u001b[0m 10ms/step - loss: 0.2567 - mae: 0.4186 - val_loss: 0.3646 - val_mae: 0.5086\n",
            "Epoch 89/500\n",
            "\u001b[1m8/8\u001b[0m \u001b[32m━━━━━━━━━━━━━━━━━━━━\u001b[0m\u001b[37m\u001b[0m \u001b[1m0s\u001b[0m 10ms/step - loss: 0.2562 - mae: 0.4312 - val_loss: 0.4121 - val_mae: 0.5226\n",
            "Epoch 90/500\n",
            "\u001b[1m8/8\u001b[0m \u001b[32m━━━━━━━━━━━━━━━━━━━━\u001b[0m\u001b[37m\u001b[0m \u001b[1m0s\u001b[0m 11ms/step - loss: 0.2994 - mae: 0.4484 - val_loss: 0.3602 - val_mae: 0.5062\n",
            "Epoch 91/500\n",
            "\u001b[1m8/8\u001b[0m \u001b[32m━━━━━━━━━━━━━━━━━━━━\u001b[0m\u001b[37m\u001b[0m \u001b[1m0s\u001b[0m 10ms/step - loss: 0.2473 - mae: 0.4270 - val_loss: 0.4353 - val_mae: 0.5354\n",
            "Epoch 92/500\n",
            "\u001b[1m8/8\u001b[0m \u001b[32m━━━━━━━━━━━━━━━━━━━━\u001b[0m\u001b[37m\u001b[0m \u001b[1m0s\u001b[0m 16ms/step - loss: 0.2653 - mae: 0.4435 - val_loss: 0.3564 - val_mae: 0.5072\n",
            "Epoch 93/500\n",
            "\u001b[1m8/8\u001b[0m \u001b[32m━━━━━━━━━━━━━━━━━━━━\u001b[0m\u001b[37m\u001b[0m \u001b[1m0s\u001b[0m 10ms/step - loss: 0.2197 - mae: 0.3923 - val_loss: 0.3761 - val_mae: 0.5142\n",
            "Epoch 94/500\n",
            "\u001b[1m8/8\u001b[0m \u001b[32m━━━━━━━━━━━━━━━━━━━━\u001b[0m\u001b[37m\u001b[0m \u001b[1m0s\u001b[0m 10ms/step - loss: 0.2414 - mae: 0.4104 - val_loss: 0.4720 - val_mae: 0.5651\n",
            "Epoch 95/500\n",
            "\u001b[1m8/8\u001b[0m \u001b[32m━━━━━━━━━━━━━━━━━━━━\u001b[0m\u001b[37m\u001b[0m \u001b[1m0s\u001b[0m 11ms/step - loss: 0.2680 - mae: 0.4341 - val_loss: 0.3421 - val_mae: 0.5002\n",
            "Epoch 96/500\n",
            "\u001b[1m8/8\u001b[0m \u001b[32m━━━━━━━━━━━━━━━━━━━━\u001b[0m\u001b[37m\u001b[0m \u001b[1m0s\u001b[0m 10ms/step - loss: 0.2633 - mae: 0.4195 - val_loss: 0.3658 - val_mae: 0.5094\n",
            "Epoch 97/500\n",
            "\u001b[1m8/8\u001b[0m \u001b[32m━━━━━━━━━━━━━━━━━━━━\u001b[0m\u001b[37m\u001b[0m \u001b[1m0s\u001b[0m 11ms/step - loss: 0.2507 - mae: 0.4302 - val_loss: 0.3582 - val_mae: 0.5042\n",
            "Epoch 98/500\n",
            "\u001b[1m8/8\u001b[0m \u001b[32m━━━━━━━━━━━━━━━━━━━━\u001b[0m\u001b[37m\u001b[0m \u001b[1m0s\u001b[0m 11ms/step - loss: 0.2345 - mae: 0.4061 - val_loss: 0.3667 - val_mae: 0.5084\n",
            "Epoch 99/500\n",
            "\u001b[1m8/8\u001b[0m \u001b[32m━━━━━━━━━━━━━━━━━━━━\u001b[0m\u001b[37m\u001b[0m \u001b[1m0s\u001b[0m 10ms/step - loss: 0.2521 - mae: 0.4288 - val_loss: 0.4186 - val_mae: 0.5251\n",
            "Epoch 100/500\n",
            "\u001b[1m8/8\u001b[0m \u001b[32m━━━━━━━━━━━━━━━━━━━━\u001b[0m\u001b[37m\u001b[0m \u001b[1m0s\u001b[0m 13ms/step - loss: 0.2863 - mae: 0.4465 - val_loss: 0.3533 - val_mae: 0.5016\n",
            "Epoch 101/500\n",
            "\u001b[1m8/8\u001b[0m \u001b[32m━━━━━━━━━━━━━━━━━━━━\u001b[0m\u001b[37m\u001b[0m \u001b[1m0s\u001b[0m 10ms/step - loss: 0.2760 - mae: 0.4338 - val_loss: 0.3888 - val_mae: 0.5175\n",
            "Epoch 102/500\n",
            "\u001b[1m8/8\u001b[0m \u001b[32m━━━━━━━━━━━━━━━━━━━━\u001b[0m\u001b[37m\u001b[0m \u001b[1m0s\u001b[0m 11ms/step - loss: 0.2183 - mae: 0.3856 - val_loss: 0.4174 - val_mae: 0.5295\n",
            "Epoch 103/500\n",
            "\u001b[1m8/8\u001b[0m \u001b[32m━━━━━━━━━━━━━━━━━━━━\u001b[0m\u001b[37m\u001b[0m \u001b[1m0s\u001b[0m 11ms/step - loss: 0.2245 - mae: 0.3999 - val_loss: 0.3445 - val_mae: 0.4990\n",
            "Epoch 104/500\n",
            "\u001b[1m8/8\u001b[0m \u001b[32m━━━━━━━━━━━━━━━━━━━━\u001b[0m\u001b[37m\u001b[0m \u001b[1m0s\u001b[0m 11ms/step - loss: 0.2697 - mae: 0.4318 - val_loss: 0.3871 - val_mae: 0.5163\n",
            "Epoch 105/500\n",
            "\u001b[1m8/8\u001b[0m \u001b[32m━━━━━━━━━━━━━━━━━━━━\u001b[0m\u001b[37m\u001b[0m \u001b[1m0s\u001b[0m 10ms/step - loss: 0.2446 - mae: 0.4119 - val_loss: 0.4117 - val_mae: 0.5260\n",
            "Epoch 106/500\n",
            "\u001b[1m8/8\u001b[0m \u001b[32m━━━━━━━━━━━━━━━━━━━━\u001b[0m\u001b[37m\u001b[0m \u001b[1m0s\u001b[0m 11ms/step - loss: 0.2795 - mae: 0.4561 - val_loss: 0.3776 - val_mae: 0.5142\n",
            "Epoch 107/500\n",
            "\u001b[1m8/8\u001b[0m \u001b[32m━━━━━━━━━━━━━━━━━━━━\u001b[0m\u001b[37m\u001b[0m \u001b[1m0s\u001b[0m 11ms/step - loss: 0.2605 - mae: 0.4257 - val_loss: 0.4320 - val_mae: 0.5437\n",
            "Epoch 108/500\n",
            "\u001b[1m8/8\u001b[0m \u001b[32m━━━━━━━━━━━━━━━━━━━━\u001b[0m\u001b[37m\u001b[0m \u001b[1m0s\u001b[0m 12ms/step - loss: 0.2958 - mae: 0.4593 - val_loss: 0.3961 - val_mae: 0.5201\n",
            "Epoch 109/500\n",
            "\u001b[1m8/8\u001b[0m \u001b[32m━━━━━━━━━━━━━━━━━━━━\u001b[0m\u001b[37m\u001b[0m \u001b[1m0s\u001b[0m 11ms/step - loss: 0.2284 - mae: 0.3952 - val_loss: 0.3710 - val_mae: 0.5104\n",
            "Epoch 110/500\n",
            "\u001b[1m8/8\u001b[0m \u001b[32m━━━━━━━━━━━━━━━━━━━━\u001b[0m\u001b[37m\u001b[0m \u001b[1m0s\u001b[0m 11ms/step - loss: 0.2208 - mae: 0.3871 - val_loss: 0.3731 - val_mae: 0.5117\n",
            "Epoch 111/500\n",
            "\u001b[1m8/8\u001b[0m \u001b[32m━━━━━━━━━━━━━━━━━━━━\u001b[0m\u001b[37m\u001b[0m \u001b[1m0s\u001b[0m 16ms/step - loss: 0.2565 - mae: 0.4311 - val_loss: 0.3698 - val_mae: 0.5109\n",
            "Epoch 112/500\n",
            "\u001b[1m8/8\u001b[0m \u001b[32m━━━━━━━━━━━━━━━━━━━━\u001b[0m\u001b[37m\u001b[0m \u001b[1m0s\u001b[0m 11ms/step - loss: 0.2414 - mae: 0.4097 - val_loss: 0.4067 - val_mae: 0.5301\n",
            "Epoch 113/500\n",
            "\u001b[1m8/8\u001b[0m \u001b[32m━━━━━━━━━━━━━━━━━━━━\u001b[0m\u001b[37m\u001b[0m \u001b[1m0s\u001b[0m 10ms/step - loss: 0.2159 - mae: 0.3887 - val_loss: 0.3613 - val_mae: 0.5100\n",
            "Epoch 114/500\n",
            "\u001b[1m8/8\u001b[0m \u001b[32m━━━━━━━━━━━━━━━━━━━━\u001b[0m\u001b[37m\u001b[0m \u001b[1m0s\u001b[0m 13ms/step - loss: 0.2487 - mae: 0.4228 - val_loss: 0.4107 - val_mae: 0.5380\n",
            "Epoch 115/500\n",
            "\u001b[1m8/8\u001b[0m \u001b[32m━━━━━━━━━━━━━━━━━━━━\u001b[0m\u001b[37m\u001b[0m \u001b[1m0s\u001b[0m 21ms/step - loss: 0.2241 - mae: 0.4011 - val_loss: 0.3791 - val_mae: 0.5139\n",
            "Epoch 116/500\n",
            "\u001b[1m8/8\u001b[0m \u001b[32m━━━━━━━━━━━━━━━━━━━━\u001b[0m\u001b[37m\u001b[0m \u001b[1m0s\u001b[0m 22ms/step - loss: 0.2359 - mae: 0.4157 - val_loss: 0.3732 - val_mae: 0.5113\n",
            "Epoch 117/500\n",
            "\u001b[1m8/8\u001b[0m \u001b[32m━━━━━━━━━━━━━━━━━━━━\u001b[0m\u001b[37m\u001b[0m \u001b[1m0s\u001b[0m 16ms/step - loss: 0.2539 - mae: 0.4365 - val_loss: 0.3721 - val_mae: 0.5113\n",
            "Epoch 118/500\n",
            "\u001b[1m8/8\u001b[0m \u001b[32m━━━━━━━━━━━━━━━━━━━━\u001b[0m\u001b[37m\u001b[0m \u001b[1m0s\u001b[0m 19ms/step - loss: 0.2518 - mae: 0.4215 - val_loss: 0.4052 - val_mae: 0.5204\n",
            "Epoch 119/500\n",
            "\u001b[1m8/8\u001b[0m \u001b[32m━━━━━━━━━━━━━━━━━━━━\u001b[0m\u001b[37m\u001b[0m \u001b[1m0s\u001b[0m 19ms/step - loss: 0.2404 - mae: 0.4221 - val_loss: 0.4089 - val_mae: 0.5209\n",
            "Epoch 120/500\n",
            "\u001b[1m8/8\u001b[0m \u001b[32m━━━━━━━━━━━━━━━━━━━━\u001b[0m\u001b[37m\u001b[0m \u001b[1m0s\u001b[0m 19ms/step - loss: 0.2306 - mae: 0.4104 - val_loss: 0.3756 - val_mae: 0.5093\n",
            "Epoch 121/500\n",
            "\u001b[1m8/8\u001b[0m \u001b[32m━━━━━━━━━━━━━━━━━━━━\u001b[0m\u001b[37m\u001b[0m \u001b[1m0s\u001b[0m 15ms/step - loss: 0.2537 - mae: 0.4247 - val_loss: 0.4157 - val_mae: 0.5262\n",
            "Epoch 122/500\n",
            "\u001b[1m8/8\u001b[0m \u001b[32m━━━━━━━━━━━━━━━━━━━━\u001b[0m\u001b[37m\u001b[0m \u001b[1m0s\u001b[0m 20ms/step - loss: 0.2323 - mae: 0.4085 - val_loss: 0.3946 - val_mae: 0.5164\n",
            "Epoch 123/500\n",
            "\u001b[1m8/8\u001b[0m \u001b[32m━━━━━━━━━━━━━━━━━━━━\u001b[0m\u001b[37m\u001b[0m \u001b[1m0s\u001b[0m 21ms/step - loss: 0.2357 - mae: 0.4235 - val_loss: 0.3769 - val_mae: 0.5127\n",
            "Epoch 124/500\n",
            "\u001b[1m8/8\u001b[0m \u001b[32m━━━━━━━━━━━━━━━━━━━━\u001b[0m\u001b[37m\u001b[0m \u001b[1m0s\u001b[0m 16ms/step - loss: 0.2508 - mae: 0.4238 - val_loss: 0.3723 - val_mae: 0.5115\n",
            "Epoch 125/500\n",
            "\u001b[1m8/8\u001b[0m \u001b[32m━━━━━━━━━━━━━━━━━━━━\u001b[0m\u001b[37m\u001b[0m \u001b[1m0s\u001b[0m 11ms/step - loss: 0.2414 - mae: 0.4054 - val_loss: 0.3761 - val_mae: 0.5127\n"
          ]
        }
      ],
      "source": [
        "from tensorflow.keras.callbacks import EarlyStopping\n",
        "\n",
        "# Create EarlyStopping callback\n",
        "early_stop = EarlyStopping(\n",
        "    monitor='val_loss',        # What to monitor (validation loss)\n",
        "    patience=30,              # Number of epochs with no improvement after which training stops\n",
        "    restore_best_weights=True  # Keeps the best weights (lowest val_loss)\n",
        ")\n",
        "\n",
        "# Then pass to model.fit() like this:\n",
        "history = model.fit(\n",
        "    X_train, y_train,\n",
        "    epochs=500,                # Or any large number, training will usually stop earlier\n",
        "    batch_size=10,\n",
        "    validation_split=0.2,\n",
        "    callbacks=[early_stop],    # Add the callback here\n",
        "    verbose=1\n",
        ")\n"
      ]
    },
    {
      "cell_type": "code",
      "execution_count": 17,
      "metadata": {
        "colab": {
          "base_uri": "https://localhost:8080/"
        },
        "id": "WGHQbR9lqm9I",
        "outputId": "5a760fb6-8471-41e7-91ba-99e1d203ef3c"
      },
      "outputs": [
        {
          "output_type": "stream",
          "name": "stdout",
          "text": [
            "\u001b[1m3/3\u001b[0m \u001b[32m━━━━━━━━━━━━━━━━━━━━\u001b[0m\u001b[37m\u001b[0m \u001b[1m0s\u001b[0m 25ms/step\n",
            "Train MSE: 0.2728\n",
            "Train MAE: 0.4358\n",
            "Train R2: 0.3781\n"
          ]
        }
      ],
      "source": [
        "from sklearn.metrics import mean_squared_error, mean_absolute_error, r2_score\n",
        "\n",
        "# Make predictions on the training data\n",
        "y_pred_train = model.predict(X_train).flatten()\n",
        "\n",
        "\n",
        "mse = mean_squared_error(y_train, y_pred_train)\n",
        "mae = mean_absolute_error(y_train, y_pred_train)\n",
        "r2 = r2_score(y_train, y_pred_train)\n",
        "\n",
        "print(f\"Train MSE: {mse:.4f}\")\n",
        "print(f\"Train MAE: {mae:.4f}\")\n",
        "print(f\"Train R2: {r2:.4f}\")"
      ]
    },
    {
      "cell_type": "code",
      "execution_count": 18,
      "metadata": {
        "colab": {
          "base_uri": "https://localhost:8080/"
        },
        "id": "ZuyRYgC9sS04",
        "outputId": "a2143e7a-24f4-44cf-84e5-66d7cea79802"
      },
      "outputs": [
        {
          "output_type": "stream",
          "name": "stdout",
          "text": [
            "\u001b[1m1/1\u001b[0m \u001b[32m━━━━━━━━━━━━━━━━━━━━\u001b[0m\u001b[37m\u001b[0m \u001b[1m0s\u001b[0m 35ms/step\n",
            "Test MSE: 0.4088\n",
            "Test MAE: 0.5474\n",
            "Test R2: 0.0176\n"
          ]
        }
      ],
      "source": [
        "from sklearn.metrics import mean_squared_error, mean_absolute_error, r2_score\n",
        "\n",
        "y_pred = model.predict(X_test).flatten()  # Make predictions on the test data\n",
        "\n",
        "mse = mean_squared_error(y_test, y_pred)\n",
        "mae = mean_absolute_error(y_test, y_pred)\n",
        "r2 = r2_score(y_test, y_pred)\n",
        "\n",
        "print(f\"Test MSE: {mse:.4f}\")\n",
        "print(f\"Test MAE: {mae:.4f}\")\n",
        "print(f\"Test R2: {r2:.4f}\")"
      ]
    },
    {
      "cell_type": "code",
      "execution_count": 19,
      "metadata": {
        "colab": {
          "base_uri": "https://localhost:8080/",
          "height": 472
        },
        "id": "aJmJCc1SZgjQ",
        "outputId": "d9fe16c3-290b-4db2-f4fc-b67cc0b28e30"
      },
      "outputs": [
        {
          "output_type": "display_data",
          "data": {
            "text/plain": [
              "<Figure size 640x480 with 1 Axes>"
            ],
            "image/png": "[encoded data removed]"
          },
          "metadata": {}
        }
      ],
      "source": [
        "plt.plot(history.history['loss'], label='Train Loss (MSE)')\n",
        "plt.plot(history.history['val_loss'], label='Validation Loss (MSE)')\n",
        "plt.xlabel('Epoch')\n",
        "plt.ylabel('Loss')\n",
        "plt.legend()\n",
        "plt.title('Loss Curve')\n",
        "plt.grid(True)\n",
        "plt.show()\n"
      ]
    },
    {
      "cell_type": "code",
      "execution_count": 20,
      "metadata": {
        "colab": {
          "base_uri": "https://localhost:8080/",
          "height": 489
        },
        "id": "_iK-0cxpZomZ",
        "outputId": "8cc41b74-ab7d-4977-d669-afba76ff9b3a"
      },
      "outputs": [
        {
          "output_type": "stream",
          "name": "stdout",
          "text": [
            "\u001b[1m1/1\u001b[0m \u001b[32m━━━━━━━━━━━━━━━━━━━━\u001b[0m\u001b[37m\u001b[0m \u001b[1m0s\u001b[0m 35ms/step\n"
          ]
        },
        {
          "output_type": "display_data",
          "data": {
            "text/plain": [
              "<Figure size 640x480 with 1 Axes>"
            ],
            "image/png": "[encoded data removed]"
          },
          "metadata": {}
        }
      ],
      "source": [
        "y_pred = model.predict(X_test).flatten()\n",
        "plt.scatter(y_test, y_pred, alpha=0.7)\n",
        "plt.xlabel('True Average Grade')\n",
        "plt.ylabel('Predicted Average Grade')\n",
        "plt.title('Predicted vs Actual Grades on Seen Data')\n",
        "plt.plot([min(y_test), max(y_test)], [min(y_test), max(y_test)], 'r--')\n",
        "plt.grid(True)\n",
        "plt.show()\n"
      ]
    },
    {
      "cell_type": "code",
      "execution_count": 21,
      "metadata": {
        "colab": {
          "base_uri": "https://localhost:8080/"
        },
        "id": "ehvl2-Ro0AxZ",
        "outputId": "e474f3f7-c9d7-473f-e81e-f0161ad0348f"
      },
      "outputs": [
        {
          "output_type": "stream",
          "name": "stdout",
          "text": [
            "   Attendance_Encoded  StudyHours_Encoded  Assignments_Encoded  \\\n",
            "0               0.825                15.0                    3   \n",
            "1               0.950                 5.0                    3   \n",
            "2               0.450                 5.0                    1   \n",
            "3               0.620                15.0                    2   \n",
            "4               0.950                 5.0                    3   \n",
            "\n",
            "   PartTimeJob_Encoded  Extracurriculars_Encoded  GPA_Normalized  \\\n",
            "0                    1                       0.5        0.190909   \n",
            "1                    0                       1.0        0.518182   \n",
            "2                    1                       0.0        0.476348   \n",
            "3                    0                       1.0        0.609091   \n",
            "4                    0                       0.0        0.476348   \n",
            "\n",
            "   Average_Grade  \n",
            "0       3.300000  \n",
            "1       2.925000  \n",
            "2       1.233333  \n",
            "3       3.000000  \n",
            "4       1.900000  \n"
          ]
        }
      ],
      "source": [
        "df = pd.read_csv('preprocessed_model_data.csv')\n",
        "print(df.head())"
      ]
    },
    {
      "cell_type": "code",
      "execution_count": 22,
      "metadata": {
        "id": "YEdwPqvT0ERZ"
      },
      "outputs": [],
      "source": [
        "features = [col for col in df.columns if col != 'Average_Grade']\n",
        "target = 'Average_Grade'\n",
        "\n",
        "X = df[features].values\n",
        "y = df[target].values"
      ]
    },
    {
      "cell_type": "code",
      "execution_count": 23,
      "metadata": {
        "colab": {
          "base_uri": "https://localhost:8080/"
        },
        "id": "Gm7L_YaG0NOR",
        "outputId": "bae49c50-9c40-45fc-d0e4-bebec7c767d8"
      },
      "outputs": [
        {
          "output_type": "stream",
          "name": "stdout",
          "text": [
            "\u001b[1m1/1\u001b[0m \u001b[32m━━━━━━━━━━━━━━━━━━━━\u001b[0m\u001b[37m\u001b[0m \u001b[1m0s\u001b[0m 34ms/step\n"
          ]
        }
      ],
      "source": [
        "y_pred = model.predict(X_test).flatten()  # Makes prediction for each test sample\n"
      ]
    },
    {
      "cell_type": "code",
      "execution_count": 24,
      "metadata": {
        "colab": {
          "base_uri": "https://localhost:8080/"
        },
        "id": "DR0xd047_9cD",
        "outputId": "8b266499-a9a7-42c7-983b-ce2b6d64362f"
      },
      "outputs": [
        {
          "output_type": "stream",
          "name": "stdout",
          "text": [
            "   Actual (Num) Actual (Letter)  Predicted (Num) Predicted (Letter)\n",
            "0         3.325              A-         2.934544                  B\n",
            "1         3.575              A-         2.783832                  B\n",
            "2         1.900               C         3.163897                 B+\n",
            "3         3.425              A-         2.827146                  B\n",
            "4         3.750               A         3.361331                 A-\n"
          ]
        }
      ],
      "source": [
        "# Define the numeric-to-letter grade conversion function\n",
        "def numeric_to_letter_grade(avg_grade):\n",
        "    if avg_grade >= 3.7:\n",
        "        return 'A'\n",
        "    elif avg_grade >= 3.3:\n",
        "        return 'A-'\n",
        "    elif avg_grade >= 3.0:\n",
        "        return 'B+'\n",
        "    elif avg_grade >= 2.7:\n",
        "        return 'B'\n",
        "    elif avg_grade >= 2.3:\n",
        "        return 'B-'\n",
        "    elif avg_grade >= 2.0:\n",
        "        return 'C+'\n",
        "    elif avg_grade >= 1.7:\n",
        "        return 'C'\n",
        "    elif avg_grade >= 1.3:\n",
        "        return 'C-'\n",
        "    elif avg_grade >= 1.0:\n",
        "        return 'D+'\n",
        "    elif avg_grade >= 0.7:\n",
        "        return 'D'\n",
        "    else:\n",
        "        return 'E'\n",
        "\n",
        "# Convert both actual and predicted numeric grades to letter grades\n",
        "letter_preds = [numeric_to_letter_grade(x) for x in y_pred]\n",
        "letter_actuals = [numeric_to_letter_grade(x) for x in y_test]\n",
        "\n",
        "# Build and display/save the comparison table\n",
        "import pandas as pd\n",
        "\n",
        "results = pd.DataFrame({\n",
        "    'Actual (Num)': y_test,\n",
        "    'Actual (Letter)': letter_actuals,\n",
        "    'Predicted (Num)': y_pred,\n",
        "    'Predicted (Letter)': letter_preds\n",
        "})\n",
        "\n",
        "print(results.head())"
      ]
    },
    {
      "cell_type": "code",
      "execution_count": 25,
      "metadata": {
        "colab": {
          "base_uri": "https://localhost:8080/",
          "height": 564
        },
        "id": "C4Y5r3Wr0qrh",
        "outputId": "8e135c7d-cf6a-4c7f-b036-c7d5c27add81"
      },
      "outputs": [
        {
          "output_type": "display_data",
          "data": {
            "text/plain": [
              "<Figure size 600x600 with 1 Axes>"
            ],
            "image/png": "[encoded data removed]"
          },
          "metadata": {}
        }
      ],
      "source": [
        "plt.figure(figsize=(6,6))\n",
        "plt.scatter(y_test, y_pred, alpha=0.7)\n",
        "plt.xlabel('Actual Average Grade')\n",
        "plt.ylabel('Predicted Average Grade')\n",
        "plt.title('Predicted vs Actual Grades on Unseen Data')\n",
        "plt.plot([min(y_test), max(y_test)], [min(y_test), max(y_test)], 'r--')  # reference line y=x\n",
        "plt.grid(True)\n",
        "plt.show()\n"
      ]
    },
    {
      "cell_type": "code",
      "execution_count": 26,
      "metadata": {
        "colab": {
          "base_uri": "https://localhost:8080/",
          "height": 472
        },
        "id": "x-qUl5tW0szh",
        "outputId": "5471e7f0-00df-4460-c000-5b14cf872ccc"
      },
      "outputs": [
        {
          "output_type": "display_data",
          "data": {
            "text/plain": [
              "<Figure size 640x480 with 1 Axes>"
            ],
            "image/png": "[encoded data removed]"
          },
          "metadata": {}
        }
      ],
      "source": [
        "residuals = y_test - y_pred\n",
        "plt.figure()\n",
        "plt.hist(residuals, bins=20, color='red', edgecolor='black')\n",
        "plt.xlabel('Prediction Error (Residual)')\n",
        "plt.ylabel('Count')\n",
        "plt.title('Distribution of Prediction Errors on Test Data')\n",
        "plt.grid(False)\n",
        "plt.show()\n"
      ]
    },
    {
      "cell_type": "code",
      "execution_count": 27,
      "metadata": {
        "id": "wZnVK3xq0xnK"
      },
      "outputs": [],
      "source": [
        "# Save true and predicted values for further analysis\n",
        "results = pd.DataFrame({'Actual': y_test, 'Predicted': y_pred})\n",
        "results.to_csv('model_test_results.csv', index=False)\n"
      ]
    },
    {
      "cell_type": "code",
      "execution_count": 28,
      "metadata": {
        "id": "cva4oIBDESDT"
      },
      "outputs": [],
      "source": [
        "import numpy as np\n",
        "from sklearn.preprocessing import MinMaxScaler\n",
        "import pandas as pd\n",
        "\n",
        "# Fit the scaler on the 'GPA_Normalized' column\n",
        "gpa_col = \"GPA_Normalized\"\n",
        "# Assuming df is already loaded and preprocessed as in previous cells\n",
        "# Ensure the 'GPA_Normalized' column is numeric and handle NaNs before fitting the scaler\n",
        "df[gpa_col] = pd.to_numeric(df[gpa_col], errors='coerce')\n",
        "df[gpa_col] = df[gpa_col].fillna(df[gpa_col].mean()) # Fill NaNs if any\n",
        "\n",
        "gpa_scaler = MinMaxScaler()\n",
        "gpa_scaler.fit(df[[gpa_col]])\n",
        "\n",
        "\n",
        "def predict_manual(model, gpa_scaler):\n",
        "    # Prompt for specific attendance percentage\n",
        "    while True:\n",
        "        try:\n",
        "            attendance_val = float(input(\"Enter your attendance percentage (e.g., 87.5 for 87.5%): \"))\n",
        "            break\n",
        "        except ValueError:\n",
        "            print(\"Please enter a valid number.\\n\")\n",
        "    # Normalize attendance to the scale used for training, if needed\n",
        "    # If you used percentage/100 as feature, then just divide by 100 here\n",
        "    attendance_encoded = attendance_val / 100\n",
        "\n",
        "    # Prompt for study hours\n",
        "    while True:\n",
        "        try:\n",
        "            study_hours = float(input(\"Enter the number of study hours per week (e.g., 16): \"))\n",
        "            break\n",
        "        except ValueError:\n",
        "            print(\"Please enter a valid number.\\n\")\n",
        "\n",
        "    # Prompt for assignment completion (as a number or percentage)\n",
        "    while True:\n",
        "        try:\n",
        "            assignments = float(input(\"On average, what fraction of assignments do you submit on time? (e.g., 1 = 100%, 0.8 = 80%): \"))\n",
        "            break\n",
        "        except ValueError:\n",
        "            print(\"Please enter a value between 0 and 1, e.g., 0.8 for 80%.\\n\")\n",
        "\n",
        "    # Part time job (yes/no)\n",
        "    while True:\n",
        "        job_raw = input(\"Are you currently doing a part time job? (yes/no): \").strip().lower()\n",
        "        if job_raw == 'yes':\n",
        "            job = 1\n",
        "            break\n",
        "        elif job_raw == 'no':\n",
        "            job = 0\n",
        "            break\n",
        "        else:\n",
        "            print(\"Please enter 'yes' or 'no'.\\n\")\n",
        "\n",
        "    # Extracurricular activities\n",
        "    while True:\n",
        "        extra_raw = input(\"Are you involved in extracurricular activities? (yes/no/occasionally): \").strip().lower()\n",
        "        if extra_raw == 'yes':\n",
        "            extra = 1\n",
        "            break\n",
        "        elif extra_raw == 'no':\n",
        "            extra = 0\n",
        "            break\n",
        "        elif extra_raw == 'occasionally':\n",
        "            extra = 0.5\n",
        "            break\n",
        "        else:\n",
        "            print(\"Please enter 'yes', 'no', or 'occasionally'.\\n\")\n",
        "\n",
        "    # GPA (raw, then normalize)\n",
        "    while True:\n",
        "        try:\n",
        "            gpa_raw = float(input(\"Enter your GPA (e.g., 3.25): \").strip())\n",
        "            break\n",
        "        except ValueError:\n",
        "            print(\"Please enter a valid GPA number (e.g., 2.85, 3.14).\\n\")\n",
        "\n",
        "    gpa_norm = gpa_scaler.transform([[gpa_raw]])[0][0]\n",
        "\n",
        "    # Build feature array\n",
        "    features_input = np.array([[attendance_encoded, study_hours, assignments, job, extra, gpa_norm]])\n",
        "\n",
        "    pred = model.predict(features_input)[0][0]\n",
        "\n",
        "    # Numeric to letter grade mapping\n",
        "    def numeric_to_letter_grade(avg_grade):\n",
        "        if avg_grade >= 3.7: return 'A'\n",
        "        elif avg_grade >= 3.3: return 'A-'\n",
        "        elif avg_grade >= 3.0: return 'B+'\n",
        "        elif avg_grade >= 2.7: return 'B'\n",
        "        elif avg_grade >= 2.3: return 'B-'\n",
        "        elif avg_grade >= 2.0: return 'C+'\n",
        "        elif avg_grade >= 1.7: return 'C'\n",
        "        elif avg_grade >= 1.3: return 'C-'\n",
        "        elif avg_grade >= 1.0: return 'D+'\n",
        "        elif avg_grade >= 0.7: return 'D'\n",
        "        else: return 'E'\n",
        "\n",
        "    letter_grade = numeric_to_letter_grade(pred)\n",
        "    print(f\"\\nPredicted Average Grade (numeric): {pred:.2f}\")\n",
        "    print(f\"Predicted Average Grade (as letter): **{letter_grade}**\")"
      ]
    },
    {
      "cell_type": "code",
      "execution_count": null,
      "metadata": {
        "id": "fcF6Qs-mEWOJ"
      },
      "outputs": [],
      "source": [
        "predict_manual(model, gpa_scaler)"
      ]
    },
    {
      "cell_type": "markdown",
      "metadata": {
        "id": "w93ZWTlDWlqf"
      },
      "source": []
    }
  ],
  "metadata": {
    "colab": {
      "provenance": []
    },
    "kernelspec": {
      "display_name": "Python 3",
      "name": "python3"
    },
    "language_info": {
      "name": "python"
    }
  },
  "nbformat": 4,
  "nbformat_minor": 0
}