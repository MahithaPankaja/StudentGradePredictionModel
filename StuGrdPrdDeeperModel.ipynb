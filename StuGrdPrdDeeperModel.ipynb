{
  "cells": [
    {
      "cell_type": "code",
      "execution_count": 1,
      "metadata": {
        "id": "JqC6I5H2TpaS"
      },
      "outputs": [],
      "source": [
        "import pandas as pd\n",
        "import numpy as np\n",
        "import tensorflow as tf\n",
        "from tensorflow import keras\n",
        "from sklearn.model_selection import train_test_split\n",
        "import matplotlib.pyplot as plt\n"
      ]
    },
    {
      "cell_type": "code",
      "execution_count": 2,
      "metadata": {
        "colab": {
          "base_uri": "https://localhost:8080/"
        },
        "id": "nRJXXVgVTuoy",
        "outputId": "812ce517-1489-40a9-d0bb-2047a89dfc7d"
      },
      "outputs": [
        {
          "output_type": "stream",
          "name": "stdout",
          "text": [
            "   Attendance_Encoded  StudyHours_Encoded  Assignments_Encoded  \\\n",
            "0               0.825                15.0                    3   \n",
            "1               0.950                 5.0                    3   \n",
            "2               0.450                 5.0                    1   \n",
            "3               0.620                15.0                    2   \n",
            "4               0.950                 5.0                    3   \n",
            "\n",
            "   PartTimeJob_Encoded  Extracurriculars_Encoded  GPA_Normalized  \\\n",
            "0                    1                       0.5        0.190909   \n",
            "1                    0                       1.0        0.518182   \n",
            "2                    1                       0.0        0.476348   \n",
            "3                    0                       1.0        0.609091   \n",
            "4                    0                       0.0        0.476348   \n",
            "\n",
            "   Average_Grade  \n",
            "0       3.300000  \n",
            "1       2.925000  \n",
            "2       1.233333  \n",
            "3       3.000000  \n",
            "4       1.900000  \n"
          ]
        }
      ],
      "source": [
        "import os\n",
        "\n",
        "filename = 'preprocessed_model_data.csv'\n",
        "if not os.path.exists(filename):\n",
        "    from google.colab import files\n",
        "    print(f\"{filename} not found: please upload it now.\")\n",
        "    uploaded = files.upload()  # This will prompt upload if needed\n",
        "\n",
        "df = pd.read_csv(filename)\n",
        "print(df.head())\n",
        "\n"
      ]
    },
    {
      "cell_type": "code",
      "execution_count": 3,
      "metadata": {
        "id": "b2sEk_NHTwXC"
      },
      "outputs": [],
      "source": [
        "# Feature columns: all columns except the target\n",
        "features = [col for col in df.columns if col != 'Average_Grade']\n",
        "target = 'Average_Grade'\n",
        "\n",
        "X = df[features].values\n",
        "y = df[target].values\n"
      ]
    },
    {
      "cell_type": "code",
      "execution_count": 4,
      "metadata": {
        "colab": {
          "base_uri": "https://localhost:8080/"
        },
        "id": "nz15Kk-mWdQ7",
        "outputId": "9e3367cf-0613-4f7a-de62-e305acbe3a47"
      },
      "outputs": [
        {
          "output_type": "stream",
          "name": "stdout",
          "text": [
            "1 0\n"
          ]
        }
      ],
      "source": [
        "print(np.isnan(X).sum(), np.isnan(y).sum())\n"
      ]
    },
    {
      "cell_type": "code",
      "execution_count": 5,
      "metadata": {
        "id": "i16r0hodW5k4"
      },
      "outputs": [],
      "source": [
        "import numpy as np\n",
        "\n",
        "# Create DataFrame for features and target to easily drop any NaNs at once\n",
        "data = pd.DataFrame(X, columns=features)\n",
        "data['Average_Grade'] = y\n",
        "data = data.dropna()\n",
        "X = data[features].values\n",
        "y = data['Average_Grade'].values\n"
      ]
    },
    {
      "cell_type": "code",
      "execution_count": 6,
      "metadata": {
        "colab": {
          "base_uri": "https://localhost:8080/"
        },
        "id": "dk0mXDeNW6sa",
        "outputId": "d9e53176-7ff8-45e1-f827-e7d018e58380"
      },
      "outputs": [
        {
          "output_type": "stream",
          "name": "stdout",
          "text": [
            "True\n",
            "0 0\n"
          ]
        }
      ],
      "source": [
        "print(np.isfinite(X).all())\n",
        "# Should print True\n",
        "\n",
        "print(np.isnan(X).sum(), np.isnan(y).sum())\n",
        "# Should both print 0\n"
      ]
    },
    {
      "cell_type": "code",
      "execution_count": 7,
      "metadata": {
        "id": "8RBXWNmKXQT6"
      },
      "outputs": [],
      "source": [
        "df = df.dropna(subset=[target])\n"
      ]
    },
    {
      "cell_type": "code",
      "execution_count": 8,
      "metadata": {
        "colab": {
          "base_uri": "https://localhost:8080/"
        },
        "id": "WrmxD1HOXbtM",
        "outputId": "c82eb0ab-280c-40e7-fde7-e380cea28800"
      },
      "outputs": [
        {
          "output_type": "execute_result",
          "data": {
            "text/plain": [
              "<Dense name=dense, built=False>"
            ]
          },
          "metadata": {},
          "execution_count": 8
        }
      ],
      "source": [
        "keras.layers.Dense(1)  # no activation, defaults to 'linear'\n"
      ]
    },
    {
      "cell_type": "code",
      "execution_count": 9,
      "metadata": {
        "colab": {
          "base_uri": "https://localhost:8080/"
        },
        "id": "yWiNdCJUT_Ti",
        "outputId": "05105376-5bcb-4c93-cea8-ee88653dee48"
      },
      "outputs": [
        {
          "output_type": "stream",
          "name": "stdout",
          "text": [
            "Train shape: (90, 6), (90,)\n",
            "Test shape: (17, 6), (17,)\n"
          ]
        }
      ],
      "source": [
        "# 85% training, 15% testing (adjust split if you prefer)\n",
        "X_train, X_test, y_train, y_test = train_test_split(\n",
        "    X, y, test_size=0.15, random_state=42\n",
        ")\n",
        "print(f\"Train shape: {X_train.shape}, {y_train.shape}\")\n",
        "print(f\"Test shape: {X_test.shape}, {y_test.shape}\")\n"
      ]
    },
    {
      "cell_type": "code",
      "execution_count": 10,
      "metadata": {
        "colab": {
          "base_uri": "https://localhost:8080/"
        },
        "id": "xzKoAHDCXmfy",
        "outputId": "40b590a1-82a5-4cff-a028-68c15df21bd7"
      },
      "outputs": [
        {
          "output_type": "stream",
          "name": "stdout",
          "text": [
            "0 0\n",
            "0 0\n"
          ]
        }
      ],
      "source": [
        "print(np.isnan(X_train).sum(), np.isnan(y_train).sum())\n",
        "print(np.isinf(X_train).sum(), np.isinf(y_train).sum())\n",
        "# all should print 0\n"
      ]
    },
    {
      "cell_type": "code",
      "execution_count": 11,
      "metadata": {
        "colab": {
          "base_uri": "https://localhost:8080/"
        },
        "id": "_7KpstXrXp8p",
        "outputId": "0ce6dbd4-97b8-4e93-d824-18ac95aff27b"
      },
      "outputs": [
        {
          "output_type": "stream",
          "name": "stdout",
          "text": [
            "Attendance_Encoded          0\n",
            "StudyHours_Encoded          1\n",
            "Assignments_Encoded         0\n",
            "PartTimeJob_Encoded         0\n",
            "Extracurriculars_Encoded    0\n",
            "GPA_Normalized              0\n",
            "Average_Grade               0\n",
            "dtype: int64\n"
          ]
        }
      ],
      "source": [
        "print(df[features + [target]].isnull().sum())\n"
      ]
    },
    {
      "cell_type": "code",
      "execution_count": 12,
      "metadata": {
        "id": "y4WGoHXBhaY2"
      },
      "outputs": [],
      "source": [
        "df['StudyHours_Encoded'] = df['StudyHours_Encoded'].fillna(df['StudyHours_Encoded'].mean())\n"
      ]
    },
    {
      "cell_type": "code",
      "execution_count": 13,
      "metadata": {
        "colab": {
          "base_uri": "https://localhost:8080/"
        },
        "id": "EZdeg7yjhfzr",
        "outputId": "0f381834-50ad-4013-8554-90926f013d89"
      },
      "outputs": [
        {
          "output_type": "stream",
          "name": "stdout",
          "text": [
            "Attendance_Encoded          0\n",
            "StudyHours_Encoded          0\n",
            "Assignments_Encoded         0\n",
            "PartTimeJob_Encoded         0\n",
            "Extracurriculars_Encoded    0\n",
            "GPA_Normalized              0\n",
            "Average_Grade               0\n",
            "dtype: int64\n"
          ]
        }
      ],
      "source": [
        "print(df[features + [target]].isnull().sum())"
      ]
    },
    {
      "cell_type": "code",
      "execution_count": 14,
      "metadata": {
        "colab": {
          "base_uri": "https://localhost:8080/"
        },
        "id": "S08MP1h8UMwZ",
        "outputId": "832003da-3ae3-49e3-b65d-e46894325dfe"
      },
      "outputs": [
        {
          "output_type": "stream",
          "name": "stderr",
          "text": [
            "/usr/local/lib/python3.12/dist-packages/keras/src/layers/core/dense.py:93: UserWarning: Do not pass an `input_shape`/`input_dim` argument to a layer. When using Sequential models, prefer using an `Input(shape)` object as the first layer in the model instead.\n",
            "  super().__init__(activity_regularizer=activity_regularizer, **kwargs)\n"
          ]
        }
      ],
      "source": [
        "# Model Architecture2: Deeper MLP\n",
        "model = keras.Sequential([\n",
        "    keras.layers.Dense(128, activation='relu', input_shape=(X_train.shape[1],)),\n",
        "    keras.layers.Dense(64, activation='relu'),\n",
        "    keras.layers.Dense(32, activation='relu'),\n",
        "    keras.layers.Dense(16, activation='relu'),\n",
        "    keras.layers.Dense(8, activation='relu'),\n",
        "    keras.layers.Dense(4, activation='relu'),\n",
        "    keras.layers.Dense(2, activation='relu'),\n",
        "    keras.layers.Dense(1)\n",
        "])"
      ]
    },
    {
      "cell_type": "code",
      "execution_count": 15,
      "metadata": {
        "id": "BVlkoqoGUShx"
      },
      "outputs": [],
      "source": [
        "model.compile(optimizer='adam', loss='mse', metrics=['mae'])\n",
        "\n",
        "# Experimentable with different optimizers (Adam, SGD, RMSprop, Adagrad, Adadelta, Adamax, Nadam)"
      ]
    },
    {
      "cell_type": "code",
      "execution_count": 16,
      "metadata": {
        "colab": {
          "base_uri": "https://localhost:8080/"
        },
        "collapsed": true,
        "id": "0Wbx3H-p5JFs",
        "outputId": "bfa31b45-4cb5-464b-87a6-be6fe52d6c7c"
      },
      "outputs": [
        {
          "output_type": "stream",
          "name": "stdout",
          "text": [
            "Epoch 1/500\n",
            "\u001b[1m8/8\u001b[0m \u001b[32m━━━━━━━━━━━━━━━━━━━━\u001b[0m\u001b[37m\u001b[0m \u001b[1m7s\u001b[0m 88ms/step - loss: 8.7251 - mae: 2.8674 - val_loss: 7.3446 - val_mae: 2.5851\n",
            "Epoch 2/500\n",
            "\u001b[1m8/8\u001b[0m \u001b[32m━━━━━━━━━━━━━━━━━━━━\u001b[0m\u001b[37m\u001b[0m \u001b[1m1s\u001b[0m 12ms/step - loss: 6.1801 - mae: 2.4037 - val_loss: 4.0502 - val_mae: 1.7961\n",
            "Epoch 3/500\n",
            "\u001b[1m8/8\u001b[0m \u001b[32m━━━━━━━━━━━━━━━━━━━━\u001b[0m\u001b[37m\u001b[0m \u001b[1m0s\u001b[0m 12ms/step - loss: 2.8643 - mae: 1.5326 - val_loss: 2.0806 - val_mae: 1.2345\n",
            "Epoch 4/500\n",
            "\u001b[1m8/8\u001b[0m \u001b[32m━━━━━━━━━━━━━━━━━━━━\u001b[0m\u001b[37m\u001b[0m \u001b[1m0s\u001b[0m 12ms/step - loss: 1.3636 - mae: 0.9609 - val_loss: 3.0640 - val_mae: 1.4467\n",
            "Epoch 5/500\n",
            "\u001b[1m8/8\u001b[0m \u001b[32m━━━━━━━━━━━━━━━━━━━━\u001b[0m\u001b[37m\u001b[0m \u001b[1m0s\u001b[0m 12ms/step - loss: 1.4171 - mae: 0.9794 - val_loss: 2.2710 - val_mae: 1.2741\n",
            "Epoch 6/500\n",
            "\u001b[1m8/8\u001b[0m \u001b[32m━━━━━━━━━━━━━━━━━━━━\u001b[0m\u001b[37m\u001b[0m \u001b[1m0s\u001b[0m 18ms/step - loss: 1.1215 - mae: 0.8862 - val_loss: 1.7694 - val_mae: 1.1164\n",
            "Epoch 7/500\n",
            "\u001b[1m8/8\u001b[0m \u001b[32m━━━━━━━━━━━━━━━━━━━━\u001b[0m\u001b[37m\u001b[0m \u001b[1m0s\u001b[0m 12ms/step - loss: 1.1639 - mae: 0.9038 - val_loss: 1.6158 - val_mae: 1.0667\n",
            "Epoch 8/500\n",
            "\u001b[1m8/8\u001b[0m \u001b[32m━━━━━━━━━━━━━━━━━━━━\u001b[0m\u001b[37m\u001b[0m \u001b[1m0s\u001b[0m 12ms/step - loss: 1.0983 - mae: 0.8953 - val_loss: 1.6610 - val_mae: 1.0899\n",
            "Epoch 9/500\n",
            "\u001b[1m8/8\u001b[0m \u001b[32m━━━━━━━━━━━━━━━━━━━━\u001b[0m\u001b[37m\u001b[0m \u001b[1m0s\u001b[0m 12ms/step - loss: 1.0010 - mae: 0.8396 - val_loss: 1.4038 - val_mae: 0.9929\n",
            "Epoch 10/500\n",
            "\u001b[1m8/8\u001b[0m \u001b[32m━━━━━━━━━━━━━━━━━━━━\u001b[0m\u001b[37m\u001b[0m \u001b[1m0s\u001b[0m 13ms/step - loss: 0.8221 - mae: 0.7769 - val_loss: 1.2602 - val_mae: 0.9373\n",
            "Epoch 11/500\n",
            "\u001b[1m8/8\u001b[0m \u001b[32m━━━━━━━━━━━━━━━━━━━━\u001b[0m\u001b[37m\u001b[0m \u001b[1m0s\u001b[0m 11ms/step - loss: 0.7425 - mae: 0.7416 - val_loss: 1.0642 - val_mae: 0.8465\n",
            "Epoch 12/500\n",
            "\u001b[1m8/8\u001b[0m \u001b[32m━━━━━━━━━━━━━━━━━━━━\u001b[0m\u001b[37m\u001b[0m \u001b[1m0s\u001b[0m 12ms/step - loss: 0.6654 - mae: 0.7074 - val_loss: 0.8973 - val_mae: 0.7558\n",
            "Epoch 13/500\n",
            "\u001b[1m8/8\u001b[0m \u001b[32m━━━━━━━━━━━━━━━━━━━━\u001b[0m\u001b[37m\u001b[0m \u001b[1m0s\u001b[0m 12ms/step - loss: 0.5228 - mae: 0.6196 - val_loss: 0.7746 - val_mae: 0.6612\n",
            "Epoch 14/500\n",
            "\u001b[1m8/8\u001b[0m \u001b[32m━━━━━━━━━━━━━━━━━━━━\u001b[0m\u001b[37m\u001b[0m \u001b[1m0s\u001b[0m 14ms/step - loss: 0.4915 - mae: 0.6084 - val_loss: 0.6444 - val_mae: 0.5984\n",
            "Epoch 15/500\n",
            "\u001b[1m8/8\u001b[0m \u001b[32m━━━━━━━━━━━━━━━━━━━━\u001b[0m\u001b[37m\u001b[0m \u001b[1m0s\u001b[0m 12ms/step - loss: 0.4344 - mae: 0.5731 - val_loss: 0.5748 - val_mae: 0.5526\n",
            "Epoch 16/500\n",
            "\u001b[1m8/8\u001b[0m \u001b[32m━━━━━━━━━━━━━━━━━━━━\u001b[0m\u001b[37m\u001b[0m \u001b[1m0s\u001b[0m 11ms/step - loss: 0.3918 - mae: 0.5141 - val_loss: 0.5332 - val_mae: 0.5506\n",
            "Epoch 17/500\n",
            "\u001b[1m8/8\u001b[0m \u001b[32m━━━━━━━━━━━━━━━━━━━━\u001b[0m\u001b[37m\u001b[0m \u001b[1m0s\u001b[0m 12ms/step - loss: 0.4333 - mae: 0.5292 - val_loss: 0.5428 - val_mae: 0.5490\n",
            "Epoch 18/500\n",
            "\u001b[1m8/8\u001b[0m \u001b[32m━━━━━━━━━━━━━━━━━━━━\u001b[0m\u001b[37m\u001b[0m \u001b[1m0s\u001b[0m 11ms/step - loss: 0.4592 - mae: 0.5574 - val_loss: 0.5428 - val_mae: 0.5449\n",
            "Epoch 19/500\n",
            "\u001b[1m8/8\u001b[0m \u001b[32m━━━━━━━━━━━━━━━━━━━━\u001b[0m\u001b[37m\u001b[0m \u001b[1m0s\u001b[0m 12ms/step - loss: 0.5218 - mae: 0.6140 - val_loss: 0.5402 - val_mae: 0.5423\n",
            "Epoch 20/500\n",
            "\u001b[1m8/8\u001b[0m \u001b[32m━━━━━━━━━━━━━━━━━━━━\u001b[0m\u001b[37m\u001b[0m \u001b[1m0s\u001b[0m 12ms/step - loss: 0.4066 - mae: 0.5528 - val_loss: 0.5608 - val_mae: 0.5568\n",
            "Epoch 21/500\n",
            "\u001b[1m8/8\u001b[0m \u001b[32m━━━━━━━━━━━━━━━━━━━━\u001b[0m\u001b[37m\u001b[0m \u001b[1m0s\u001b[0m 12ms/step - loss: 0.4360 - mae: 0.5190 - val_loss: 0.5238 - val_mae: 0.5389\n",
            "Epoch 22/500\n",
            "\u001b[1m8/8\u001b[0m \u001b[32m━━━━━━━━━━━━━━━━━━━━\u001b[0m\u001b[37m\u001b[0m \u001b[1m0s\u001b[0m 12ms/step - loss: 0.4123 - mae: 0.5148 - val_loss: 0.5311 - val_mae: 0.5443\n",
            "Epoch 23/500\n",
            "\u001b[1m8/8\u001b[0m \u001b[32m━━━━━━━━━━━━━━━━━━━━\u001b[0m\u001b[37m\u001b[0m \u001b[1m0s\u001b[0m 12ms/step - loss: 0.4135 - mae: 0.5166 - val_loss: 0.5405 - val_mae: 0.5632\n",
            "Epoch 24/500\n",
            "\u001b[1m8/8\u001b[0m \u001b[32m━━━━━━━━━━━━━━━━━━━━\u001b[0m\u001b[37m\u001b[0m \u001b[1m0s\u001b[0m 12ms/step - loss: 0.3981 - mae: 0.5009 - val_loss: 0.5304 - val_mae: 0.5542\n",
            "Epoch 25/500\n",
            "\u001b[1m8/8\u001b[0m \u001b[32m━━━━━━━━━━━━━━━━━━━━\u001b[0m\u001b[37m\u001b[0m \u001b[1m0s\u001b[0m 12ms/step - loss: 0.3679 - mae: 0.5081 - val_loss: 0.4994 - val_mae: 0.5348\n",
            "Epoch 26/500\n",
            "\u001b[1m8/8\u001b[0m \u001b[32m━━━━━━━━━━━━━━━━━━━━\u001b[0m\u001b[37m\u001b[0m \u001b[1m0s\u001b[0m 12ms/step - loss: 0.3265 - mae: 0.4740 - val_loss: 0.4740 - val_mae: 0.5238\n",
            "Epoch 27/500\n",
            "\u001b[1m8/8\u001b[0m \u001b[32m━━━━━━━━━━━━━━━━━━━━\u001b[0m\u001b[37m\u001b[0m \u001b[1m0s\u001b[0m 12ms/step - loss: 0.3294 - mae: 0.4740 - val_loss: 0.5089 - val_mae: 0.5470\n",
            "Epoch 28/500\n",
            "\u001b[1m8/8\u001b[0m \u001b[32m━━━━━━━━━━━━━━━━━━━━\u001b[0m\u001b[37m\u001b[0m \u001b[1m0s\u001b[0m 12ms/step - loss: 0.3610 - mae: 0.5007 - val_loss: 0.4704 - val_mae: 0.5241\n",
            "Epoch 29/500\n",
            "\u001b[1m8/8\u001b[0m \u001b[32m━━━━━━━━━━━━━━━━━━━━\u001b[0m\u001b[37m\u001b[0m \u001b[1m0s\u001b[0m 12ms/step - loss: 0.4269 - mae: 0.5467 - val_loss: 0.5037 - val_mae: 0.5396\n",
            "Epoch 30/500\n",
            "\u001b[1m8/8\u001b[0m \u001b[32m━━━━━━━━━━━━━━━━━━━━\u001b[0m\u001b[37m\u001b[0m \u001b[1m0s\u001b[0m 12ms/step - loss: 0.3854 - mae: 0.5193 - val_loss: 0.4749 - val_mae: 0.5244\n",
            "Epoch 31/500\n",
            "\u001b[1m8/8\u001b[0m \u001b[32m━━━━━━━━━━━━━━━━━━━━\u001b[0m\u001b[37m\u001b[0m \u001b[1m0s\u001b[0m 12ms/step - loss: 0.3462 - mae: 0.4969 - val_loss: 0.5005 - val_mae: 0.5478\n",
            "Epoch 32/500\n",
            "\u001b[1m8/8\u001b[0m \u001b[32m━━━━━━━━━━━━━━━━━━━━\u001b[0m\u001b[37m\u001b[0m \u001b[1m0s\u001b[0m 12ms/step - loss: 0.3631 - mae: 0.4941 - val_loss: 0.4653 - val_mae: 0.5231\n",
            "Epoch 33/500\n",
            "\u001b[1m8/8\u001b[0m \u001b[32m━━━━━━━━━━━━━━━━━━━━\u001b[0m\u001b[37m\u001b[0m \u001b[1m0s\u001b[0m 12ms/step - loss: 0.3201 - mae: 0.4606 - val_loss: 0.4992 - val_mae: 0.5566\n",
            "Epoch 34/500\n",
            "\u001b[1m8/8\u001b[0m \u001b[32m━━━━━━━━━━━━━━━━━━━━\u001b[0m\u001b[37m\u001b[0m \u001b[1m0s\u001b[0m 12ms/step - loss: 0.3787 - mae: 0.4882 - val_loss: 0.4243 - val_mae: 0.5158\n",
            "Epoch 35/500\n",
            "\u001b[1m8/8\u001b[0m \u001b[32m━━━━━━━━━━━━━━━━━━━━\u001b[0m\u001b[37m\u001b[0m \u001b[1m0s\u001b[0m 12ms/step - loss: 0.3421 - mae: 0.4808 - val_loss: 0.4344 - val_mae: 0.5241\n",
            "Epoch 36/500\n",
            "\u001b[1m8/8\u001b[0m \u001b[32m━━━━━━━━━━━━━━━━━━━━\u001b[0m\u001b[37m\u001b[0m \u001b[1m0s\u001b[0m 12ms/step - loss: 0.3062 - mae: 0.4508 - val_loss: 0.4502 - val_mae: 0.5305\n",
            "Epoch 37/500\n",
            "\u001b[1m8/8\u001b[0m \u001b[32m━━━━━━━━━━━━━━━━━━━━\u001b[0m\u001b[37m\u001b[0m \u001b[1m0s\u001b[0m 12ms/step - loss: 0.3859 - mae: 0.5200 - val_loss: 0.4570 - val_mae: 0.5311\n",
            "Epoch 38/500\n",
            "\u001b[1m8/8\u001b[0m \u001b[32m━━━━━━━━━━━━━━━━━━━━\u001b[0m\u001b[37m\u001b[0m \u001b[1m0s\u001b[0m 12ms/step - loss: 0.3909 - mae: 0.5173 - val_loss: 0.4568 - val_mae: 0.5271\n",
            "Epoch 39/500\n",
            "\u001b[1m8/8\u001b[0m \u001b[32m━━━━━━━━━━━━━━━━━━━━\u001b[0m\u001b[37m\u001b[0m \u001b[1m0s\u001b[0m 17ms/step - loss: 0.3315 - mae: 0.4934 - val_loss: 0.4431 - val_mae: 0.5229\n",
            "Epoch 40/500\n",
            "\u001b[1m8/8\u001b[0m \u001b[32m━━━━━━━━━━━━━━━━━━━━\u001b[0m\u001b[37m\u001b[0m \u001b[1m0s\u001b[0m 12ms/step - loss: 0.3289 - mae: 0.4776 - val_loss: 0.4286 - val_mae: 0.5188\n",
            "Epoch 41/500\n",
            "\u001b[1m8/8\u001b[0m \u001b[32m━━━━━━━━━━━━━━━━━━━━\u001b[0m\u001b[37m\u001b[0m \u001b[1m0s\u001b[0m 12ms/step - loss: 0.3526 - mae: 0.5087 - val_loss: 0.4256 - val_mae: 0.5128\n",
            "Epoch 42/500\n",
            "\u001b[1m8/8\u001b[0m \u001b[32m━━━━━━━━━━━━━━━━━━━━\u001b[0m\u001b[37m\u001b[0m \u001b[1m0s\u001b[0m 12ms/step - loss: 0.3699 - mae: 0.4864 - val_loss: 0.4349 - val_mae: 0.5233\n",
            "Epoch 43/500\n",
            "\u001b[1m8/8\u001b[0m \u001b[32m━━━━━━━━━━━━━━━━━━━━\u001b[0m\u001b[37m\u001b[0m \u001b[1m0s\u001b[0m 11ms/step - loss: 0.3312 - mae: 0.4660 - val_loss: 0.4586 - val_mae: 0.5356\n",
            "Epoch 44/500\n",
            "\u001b[1m8/8\u001b[0m \u001b[32m━━━━━━━━━━━━━━━━━━━━\u001b[0m\u001b[37m\u001b[0m \u001b[1m0s\u001b[0m 12ms/step - loss: 0.3234 - mae: 0.4848 - val_loss: 0.4379 - val_mae: 0.5171\n",
            "Epoch 45/500\n",
            "\u001b[1m8/8\u001b[0m \u001b[32m━━━━━━━━━━━━━━━━━━━━\u001b[0m\u001b[37m\u001b[0m \u001b[1m0s\u001b[0m 11ms/step - loss: 0.4177 - mae: 0.5319 - val_loss: 0.4808 - val_mae: 0.5451\n",
            "Epoch 46/500\n",
            "\u001b[1m8/8\u001b[0m \u001b[32m━━━━━━━━━━━━━━━━━━━━\u001b[0m\u001b[37m\u001b[0m \u001b[1m0s\u001b[0m 12ms/step - loss: 0.3562 - mae: 0.4948 - val_loss: 0.4857 - val_mae: 0.5511\n",
            "Epoch 47/500\n",
            "\u001b[1m8/8\u001b[0m \u001b[32m━━━━━━━━━━━━━━━━━━━━\u001b[0m\u001b[37m\u001b[0m \u001b[1m0s\u001b[0m 14ms/step - loss: 0.3119 - mae: 0.4725 - val_loss: 0.4305 - val_mae: 0.5211\n",
            "Epoch 48/500\n",
            "\u001b[1m8/8\u001b[0m \u001b[32m━━━━━━━━━━━━━━━━━━━━\u001b[0m\u001b[37m\u001b[0m \u001b[1m0s\u001b[0m 12ms/step - loss: 0.3004 - mae: 0.4487 - val_loss: 0.4960 - val_mae: 0.5905\n",
            "Epoch 49/500\n",
            "\u001b[1m8/8\u001b[0m \u001b[32m━━━━━━━━━━━━━━━━━━━━\u001b[0m\u001b[37m\u001b[0m \u001b[1m0s\u001b[0m 12ms/step - loss: 0.3044 - mae: 0.4571 - val_loss: 0.4008 - val_mae: 0.5073\n",
            "Epoch 50/500\n",
            "\u001b[1m8/8\u001b[0m \u001b[32m━━━━━━━━━━━━━━━━━━━━\u001b[0m\u001b[37m\u001b[0m \u001b[1m0s\u001b[0m 13ms/step - loss: 0.3257 - mae: 0.4628 - val_loss: 0.5276 - val_mae: 0.6103\n",
            "Epoch 51/500\n",
            "\u001b[1m8/8\u001b[0m \u001b[32m━━━━━━━━━━━━━━━━━━━━\u001b[0m\u001b[37m\u001b[0m \u001b[1m0s\u001b[0m 12ms/step - loss: 0.4582 - mae: 0.5450 - val_loss: 0.4305 - val_mae: 0.5199\n",
            "Epoch 52/500\n",
            "\u001b[1m8/8\u001b[0m \u001b[32m━━━━━━━━━━━━━━━━━━━━\u001b[0m\u001b[37m\u001b[0m \u001b[1m0s\u001b[0m 13ms/step - loss: 0.3456 - mae: 0.4498 - val_loss: 0.4531 - val_mae: 0.5366\n",
            "Epoch 53/500\n",
            "\u001b[1m8/8\u001b[0m \u001b[32m━━━━━━━━━━━━━━━━━━━━\u001b[0m\u001b[37m\u001b[0m \u001b[1m0s\u001b[0m 12ms/step - loss: 0.3532 - mae: 0.4779 - val_loss: 0.4706 - val_mae: 0.5463\n",
            "Epoch 54/500\n",
            "\u001b[1m8/8\u001b[0m \u001b[32m━━━━━━━━━━━━━━━━━━━━\u001b[0m\u001b[37m\u001b[0m \u001b[1m0s\u001b[0m 12ms/step - loss: 0.3833 - mae: 0.5079 - val_loss: 0.4378 - val_mae: 0.5202\n",
            "Epoch 55/500\n",
            "\u001b[1m8/8\u001b[0m \u001b[32m━━━━━━━━━━━━━━━━━━━━\u001b[0m\u001b[37m\u001b[0m \u001b[1m0s\u001b[0m 12ms/step - loss: 0.3627 - mae: 0.5094 - val_loss: 0.4636 - val_mae: 0.5460\n",
            "Epoch 56/500\n",
            "\u001b[1m8/8\u001b[0m \u001b[32m━━━━━━━━━━━━━━━━━━━━\u001b[0m\u001b[37m\u001b[0m \u001b[1m0s\u001b[0m 12ms/step - loss: 0.3138 - mae: 0.4827 - val_loss: 0.4127 - val_mae: 0.5202\n",
            "Epoch 57/500\n",
            "\u001b[1m8/8\u001b[0m \u001b[32m━━━━━━━━━━━━━━━━━━━━\u001b[0m\u001b[37m\u001b[0m \u001b[1m0s\u001b[0m 13ms/step - loss: 0.3212 - mae: 0.4789 - val_loss: 0.4555 - val_mae: 0.5422\n",
            "Epoch 58/500\n",
            "\u001b[1m8/8\u001b[0m \u001b[32m━━━━━━━━━━━━━━━━━━━━\u001b[0m\u001b[37m\u001b[0m \u001b[1m0s\u001b[0m 12ms/step - loss: 0.3859 - mae: 0.5242 - val_loss: 0.4412 - val_mae: 0.5320\n",
            "Epoch 59/500\n",
            "\u001b[1m8/8\u001b[0m \u001b[32m━━━━━━━━━━━━━━━━━━━━\u001b[0m\u001b[37m\u001b[0m \u001b[1m0s\u001b[0m 12ms/step - loss: 0.3327 - mae: 0.4791 - val_loss: 0.5080 - val_mae: 0.5961\n",
            "Epoch 60/500\n",
            "\u001b[1m8/8\u001b[0m \u001b[32m━━━━━━━━━━━━━━━━━━━━\u001b[0m\u001b[37m\u001b[0m \u001b[1m0s\u001b[0m 12ms/step - loss: 0.3168 - mae: 0.4747 - val_loss: 0.3915 - val_mae: 0.5156\n",
            "Epoch 61/500\n",
            "\u001b[1m8/8\u001b[0m \u001b[32m━━━━━━━━━━━━━━━━━━━━\u001b[0m\u001b[37m\u001b[0m \u001b[1m0s\u001b[0m 12ms/step - loss: 0.2801 - mae: 0.4081 - val_loss: 0.5003 - val_mae: 0.6062\n",
            "Epoch 62/500\n",
            "\u001b[1m8/8\u001b[0m \u001b[32m━━━━━━━━━━━━━━━━━━━━\u001b[0m\u001b[37m\u001b[0m \u001b[1m0s\u001b[0m 12ms/step - loss: 0.2637 - mae: 0.4212 - val_loss: 0.4116 - val_mae: 0.5073\n",
            "Epoch 63/500\n",
            "\u001b[1m8/8\u001b[0m \u001b[32m━━━━━━━━━━━━━━━━━━━━\u001b[0m\u001b[37m\u001b[0m \u001b[1m0s\u001b[0m 12ms/step - loss: 0.3433 - mae: 0.4891 - val_loss: 0.4720 - val_mae: 0.5711\n",
            "Epoch 64/500\n",
            "\u001b[1m8/8\u001b[0m \u001b[32m━━━━━━━━━━━━━━━━━━━━\u001b[0m\u001b[37m\u001b[0m \u001b[1m0s\u001b[0m 11ms/step - loss: 0.2752 - mae: 0.4302 - val_loss: 0.4026 - val_mae: 0.5124\n",
            "Epoch 65/500\n",
            "\u001b[1m8/8\u001b[0m \u001b[32m━━━━━━━━━━━━━━━━━━━━\u001b[0m\u001b[37m\u001b[0m \u001b[1m0s\u001b[0m 17ms/step - loss: 0.2821 - mae: 0.4480 - val_loss: 0.4337 - val_mae: 0.5364\n",
            "Epoch 66/500\n",
            "\u001b[1m8/8\u001b[0m \u001b[32m━━━━━━━━━━━━━━━━━━━━\u001b[0m\u001b[37m\u001b[0m \u001b[1m0s\u001b[0m 24ms/step - loss: 0.2710 - mae: 0.4441 - val_loss: 0.4060 - val_mae: 0.5254\n",
            "Epoch 67/500\n",
            "\u001b[1m8/8\u001b[0m \u001b[32m━━━━━━━━━━━━━━━━━━━━\u001b[0m\u001b[37m\u001b[0m \u001b[1m0s\u001b[0m 35ms/step - loss: 0.2627 - mae: 0.4470 - val_loss: 0.3928 - val_mae: 0.5134\n",
            "Epoch 68/500\n",
            "\u001b[1m8/8\u001b[0m \u001b[32m━━━━━━━━━━━━━━━━━━━━\u001b[0m\u001b[37m\u001b[0m \u001b[1m0s\u001b[0m 21ms/step - loss: 0.3307 - mae: 0.4879 - val_loss: 0.4596 - val_mae: 0.5691\n",
            "Epoch 69/500\n",
            "\u001b[1m8/8\u001b[0m \u001b[32m━━━━━━━━━━━━━━━━━━━━\u001b[0m\u001b[37m\u001b[0m \u001b[1m0s\u001b[0m 17ms/step - loss: 0.3457 - mae: 0.4702 - val_loss: 0.4135 - val_mae: 0.5250\n",
            "Epoch 70/500\n",
            "\u001b[1m8/8\u001b[0m \u001b[32m━━━━━━━━━━━━━━━━━━━━\u001b[0m\u001b[37m\u001b[0m \u001b[1m0s\u001b[0m 17ms/step - loss: 0.2801 - mae: 0.4591 - val_loss: 0.4292 - val_mae: 0.5352\n",
            "Epoch 71/500\n",
            "\u001b[1m8/8\u001b[0m \u001b[32m━━━━━━━━━━━━━━━━━━━━\u001b[0m\u001b[37m\u001b[0m \u001b[1m0s\u001b[0m 25ms/step - loss: 0.3062 - mae: 0.4705 - val_loss: 0.4035 - val_mae: 0.5263\n",
            "Epoch 72/500\n",
            "\u001b[1m8/8\u001b[0m \u001b[32m━━━━━━━━━━━━━━━━━━━━\u001b[0m\u001b[37m\u001b[0m \u001b[1m0s\u001b[0m 23ms/step - loss: 0.2514 - mae: 0.4261 - val_loss: 0.4523 - val_mae: 0.5632\n",
            "Epoch 73/500\n",
            "\u001b[1m8/8\u001b[0m \u001b[32m━━━━━━━━━━━━━━━━━━━━\u001b[0m\u001b[37m\u001b[0m \u001b[1m0s\u001b[0m 19ms/step - loss: 0.2843 - mae: 0.4442 - val_loss: 0.4081 - val_mae: 0.5279\n",
            "Epoch 74/500\n",
            "\u001b[1m8/8\u001b[0m \u001b[32m━━━━━━━━━━━━━━━━━━━━\u001b[0m\u001b[37m\u001b[0m \u001b[1m0s\u001b[0m 12ms/step - loss: 0.2701 - mae: 0.4405 - val_loss: 0.4266 - val_mae: 0.5346\n",
            "Epoch 75/500\n",
            "\u001b[1m8/8\u001b[0m \u001b[32m━━━━━━━━━━━━━━━━━━━━\u001b[0m\u001b[37m\u001b[0m \u001b[1m0s\u001b[0m 11ms/step - loss: 0.3033 - mae: 0.4697 - val_loss: 0.4592 - val_mae: 0.5528\n",
            "Epoch 76/500\n",
            "\u001b[1m8/8\u001b[0m \u001b[32m━━━━━━━━━━━━━━━━━━━━\u001b[0m\u001b[37m\u001b[0m \u001b[1m0s\u001b[0m 14ms/step - loss: 0.2522 - mae: 0.4163 - val_loss: 0.4082 - val_mae: 0.5245\n",
            "Epoch 77/500\n",
            "\u001b[1m8/8\u001b[0m \u001b[32m━━━━━━━━━━━━━━━━━━━━\u001b[0m\u001b[37m\u001b[0m \u001b[1m0s\u001b[0m 12ms/step - loss: 0.2903 - mae: 0.4597 - val_loss: 0.4010 - val_mae: 0.5248\n",
            "Epoch 78/500\n",
            "\u001b[1m8/8\u001b[0m \u001b[32m━━━━━━━━━━━━━━━━━━━━\u001b[0m\u001b[37m\u001b[0m \u001b[1m0s\u001b[0m 11ms/step - loss: 0.2471 - mae: 0.4152 - val_loss: 0.4145 - val_mae: 0.5338\n",
            "Epoch 79/500\n",
            "\u001b[1m8/8\u001b[0m \u001b[32m━━━━━━━━━━━━━━━━━━━━\u001b[0m\u001b[37m\u001b[0m \u001b[1m0s\u001b[0m 12ms/step - loss: 0.2895 - mae: 0.4485 - val_loss: 0.4288 - val_mae: 0.5335\n",
            "Epoch 80/500\n",
            "\u001b[1m8/8\u001b[0m \u001b[32m━━━━━━━━━━━━━━━━━━━━\u001b[0m\u001b[37m\u001b[0m \u001b[1m0s\u001b[0m 12ms/step - loss: 0.2748 - mae: 0.4459 - val_loss: 0.4418 - val_mae: 0.5440\n",
            "Epoch 81/500\n",
            "\u001b[1m8/8\u001b[0m \u001b[32m━━━━━━━━━━━━━━━━━━━━\u001b[0m\u001b[37m\u001b[0m \u001b[1m0s\u001b[0m 12ms/step - loss: 0.2609 - mae: 0.4263 - val_loss: 0.4433 - val_mae: 0.5407\n",
            "Epoch 82/500\n",
            "\u001b[1m8/8\u001b[0m \u001b[32m━━━━━━━━━━━━━━━━━━━━\u001b[0m\u001b[37m\u001b[0m \u001b[1m0s\u001b[0m 12ms/step - loss: 0.2657 - mae: 0.4450 - val_loss: 0.4395 - val_mae: 0.5422\n",
            "Epoch 83/500\n",
            "\u001b[1m8/8\u001b[0m \u001b[32m━━━━━━━━━━━━━━━━━━━━\u001b[0m\u001b[37m\u001b[0m \u001b[1m0s\u001b[0m 12ms/step - loss: 0.2133 - mae: 0.3787 - val_loss: 0.4027 - val_mae: 0.5112\n",
            "Epoch 84/500\n",
            "\u001b[1m8/8\u001b[0m \u001b[32m━━━━━━━━━━━━━━━━━━━━\u001b[0m\u001b[37m\u001b[0m \u001b[1m0s\u001b[0m 17ms/step - loss: 0.3201 - mae: 0.4553 - val_loss: 0.4645 - val_mae: 0.5660\n",
            "Epoch 85/500\n",
            "\u001b[1m8/8\u001b[0m \u001b[32m━━━━━━━━━━━━━━━━━━━━\u001b[0m\u001b[37m\u001b[0m \u001b[1m0s\u001b[0m 12ms/step - loss: 0.2529 - mae: 0.4204 - val_loss: 0.4532 - val_mae: 0.5208\n",
            "Epoch 86/500\n",
            "\u001b[1m8/8\u001b[0m \u001b[32m━━━━━━━━━━━━━━━━━━━━\u001b[0m\u001b[37m\u001b[0m \u001b[1m0s\u001b[0m 12ms/step - loss: 0.2596 - mae: 0.4278 - val_loss: 0.4881 - val_mae: 0.5763\n",
            "Epoch 87/500\n",
            "\u001b[1m8/8\u001b[0m \u001b[32m━━━━━━━━━━━━━━━━━━━━\u001b[0m\u001b[37m\u001b[0m \u001b[1m0s\u001b[0m 12ms/step - loss: 0.2931 - mae: 0.4456 - val_loss: 0.4393 - val_mae: 0.5109\n",
            "Epoch 88/500\n",
            "\u001b[1m8/8\u001b[0m \u001b[32m━━━━━━━━━━━━━━━━━━━━\u001b[0m\u001b[37m\u001b[0m \u001b[1m0s\u001b[0m 11ms/step - loss: 0.3526 - mae: 0.5058 - val_loss: 0.4608 - val_mae: 0.5565\n",
            "Epoch 89/500\n",
            "\u001b[1m8/8\u001b[0m \u001b[32m━━━━━━━━━━━━━━━━━━━━\u001b[0m\u001b[37m\u001b[0m \u001b[1m0s\u001b[0m 12ms/step - loss: 0.2339 - mae: 0.4248 - val_loss: 0.4242 - val_mae: 0.5173\n",
            "Epoch 90/500\n",
            "\u001b[1m8/8\u001b[0m \u001b[32m━━━━━━━━━━━━━━━━━━━━\u001b[0m\u001b[37m\u001b[0m \u001b[1m0s\u001b[0m 12ms/step - loss: 0.2930 - mae: 0.4636 - val_loss: 0.4319 - val_mae: 0.5374\n"
          ]
        }
      ],
      "source": [
        "from tensorflow.keras.callbacks import EarlyStopping\n",
        "\n",
        "# Create EarlyStopping callback\n",
        "early_stop = EarlyStopping(\n",
        "    monitor='val_loss',        # What to monitor (validation loss)\n",
        "    patience=30,              # Number of epochs with no improvement after which training stops\n",
        "    restore_best_weights=True  # Keeps the best weights (lowest val_loss)\n",
        ")\n",
        "\n",
        "# Then pass to model.fit() like this:\n",
        "history = model.fit(\n",
        "    X_train, y_train,\n",
        "    epochs=500,                # Or any large number, training will usually stop earlier\n",
        "    batch_size=10,\n",
        "    validation_split=0.2,\n",
        "    callbacks=[early_stop],    # Add the callback here\n",
        "    verbose=1\n",
        ")\n"
      ]
    },
    {
      "cell_type": "code",
      "execution_count": 17,
      "metadata": {
        "colab": {
          "base_uri": "https://localhost:8080/"
        },
        "id": "WGHQbR9lqm9I",
        "outputId": "b703b220-4c47-4d42-e3ef-95802224a008"
      },
      "outputs": [
        {
          "output_type": "stream",
          "name": "stdout",
          "text": [
            "\u001b[1m3/3\u001b[0m \u001b[32m━━━━━━━━━━━━━━━━━━━━\u001b[0m\u001b[37m\u001b[0m \u001b[1m0s\u001b[0m 52ms/step\n",
            "Train MSE: 0.3207\n",
            "Train MAE: 0.4667\n",
            "Train R2: 0.2690\n"
          ]
        }
      ],
      "source": [
        "from sklearn.metrics import mean_squared_error, mean_absolute_error, r2_score\n",
        "\n",
        "# Make predictions on the training data\n",
        "y_pred_train = model.predict(X_train).flatten()\n",
        "\n",
        "\n",
        "mse = mean_squared_error(y_train, y_pred_train)\n",
        "mae = mean_absolute_error(y_train, y_pred_train)\n",
        "r2 = r2_score(y_train, y_pred_train)\n",
        "\n",
        "print(f\"Train MSE: {mse:.4f}\")\n",
        "print(f\"Train MAE: {mae:.4f}\")\n",
        "print(f\"Train R2: {r2:.4f}\")"
      ]
    },
    {
      "cell_type": "code",
      "execution_count": 18,
      "metadata": {
        "colab": {
          "base_uri": "https://localhost:8080/"
        },
        "id": "ZuyRYgC9sS04",
        "outputId": "1c25b058-3b1a-4b80-be1c-329ef1122b6d"
      },
      "outputs": [
        {
          "output_type": "stream",
          "name": "stdout",
          "text": [
            "\u001b[1m1/1\u001b[0m \u001b[32m━━━━━━━━━━━━━━━━━━━━\u001b[0m\u001b[37m\u001b[0m \u001b[1m0s\u001b[0m 36ms/step\n",
            "Test MSE: 0.3573\n",
            "Test MAE: 0.4943\n",
            "Test R2: 0.1414\n"
          ]
        }
      ],
      "source": [
        "from sklearn.metrics import mean_squared_error, mean_absolute_error, r2_score\n",
        "\n",
        "y_pred = model.predict(X_test).flatten()  # Make predictions on the test data\n",
        "\n",
        "mse = mean_squared_error(y_test, y_pred)\n",
        "mae = mean_absolute_error(y_test, y_pred)\n",
        "r2 = r2_score(y_test, y_pred)\n",
        "\n",
        "print(f\"Test MSE: {mse:.4f}\")\n",
        "print(f\"Test MAE: {mae:.4f}\")\n",
        "print(f\"Test R2: {r2:.4f}\")"
      ]
    },
    {
      "cell_type": "code",
      "execution_count": 19,
      "metadata": {
        "colab": {
          "base_uri": "https://localhost:8080/",
          "height": 472
        },
        "id": "aJmJCc1SZgjQ",
        "outputId": "54849efb-b4bc-4fe9-9010-ba1f93f45b02"
      },
      "outputs": [
        {
          "output_type": "display_data",
          "data": {
            "text/plain": [
              "<Figure size 640x480 with 1 Axes>"
            ],
            "image/png": "[encoded data removed]"
          },
          "metadata": {}
        }
      ],
      "source": [
        "plt.plot(history.history['loss'], label='Train Loss (MSE)')\n",
        "plt.plot(history.history['val_loss'], label='Validation Loss (MSE)')\n",
        "plt.xlabel('Epoch')\n",
        "plt.ylabel('Loss')\n",
        "plt.legend()\n",
        "plt.title('Loss Curve')\n",
        "plt.grid(True)\n",
        "plt.show()\n"
      ]
    },
    {
      "cell_type": "markdown",
      "source": [],
      "metadata": {
        "id": "Z9U6tO0XSe10"
      }
    },
    {
      "cell_type": "code",
      "execution_count": 20,
      "metadata": {
        "colab": {
          "base_uri": "https://localhost:8080/",
          "height": 489
        },
        "id": "_iK-0cxpZomZ",
        "outputId": "73fd5609-bcfb-4335-c7be-5289475dc6b3"
      },
      "outputs": [
        {
          "output_type": "stream",
          "name": "stdout",
          "text": [
            "\u001b[1m1/1\u001b[0m \u001b[32m━━━━━━━━━━━━━━━━━━━━\u001b[0m\u001b[37m\u001b[0m \u001b[1m0s\u001b[0m 36ms/step\n"
          ]
        },
        {
          "output_type": "display_data",
          "data": {
            "text/plain": [
              "<Figure size 640x480 with 1 Axes>"
            ],
            "image/png": "[encoded data removed]"
          },
          "metadata": {}
        }
      ],
      "source": [
        "y_pred = model.predict(X_test).flatten()\n",
        "plt.scatter(y_test, y_pred, alpha=0.7)\n",
        "plt.xlabel('True Average Grade')\n",
        "plt.ylabel('Predicted Average Grade')\n",
        "plt.title('Predicted vs Actual Grades on Seen Data')\n",
        "plt.plot([min(y_test), max(y_test)], [min(y_test), max(y_test)], 'r--')\n",
        "plt.grid(True)\n",
        "plt.show()\n"
      ]
    },
    {
      "cell_type": "code",
      "execution_count": 21,
      "metadata": {
        "colab": {
          "base_uri": "https://localhost:8080/"
        },
        "id": "ehvl2-Ro0AxZ",
        "outputId": "fb7a59ab-464b-42d8-fafe-bf0f7c85791d"
      },
      "outputs": [
        {
          "output_type": "stream",
          "name": "stdout",
          "text": [
            "   Attendance_Encoded  StudyHours_Encoded  Assignments_Encoded  \\\n",
            "0               0.825                15.0                    3   \n",
            "1               0.950                 5.0                    3   \n",
            "2               0.450                 5.0                    1   \n",
            "3               0.620                15.0                    2   \n",
            "4               0.950                 5.0                    3   \n",
            "\n",
            "   PartTimeJob_Encoded  Extracurriculars_Encoded  GPA_Normalized  \\\n",
            "0                    1                       0.5        0.190909   \n",
            "1                    0                       1.0        0.518182   \n",
            "2                    1                       0.0        0.476348   \n",
            "3                    0                       1.0        0.609091   \n",
            "4                    0                       0.0        0.476348   \n",
            "\n",
            "   Average_Grade  \n",
            "0       3.300000  \n",
            "1       2.925000  \n",
            "2       1.233333  \n",
            "3       3.000000  \n",
            "4       1.900000  \n"
          ]
        }
      ],
      "source": [
        "df = pd.read_csv('preprocessed_model_data.csv')\n",
        "print(df.head())"
      ]
    },
    {
      "cell_type": "code",
      "execution_count": 22,
      "metadata": {
        "id": "YEdwPqvT0ERZ"
      },
      "outputs": [],
      "source": [
        "features = [col for col in df.columns if col != 'Average_Grade']\n",
        "target = 'Average_Grade'\n",
        "\n",
        "X = df[features].values\n",
        "y = df[target].values"
      ]
    },
    {
      "cell_type": "code",
      "execution_count": 23,
      "metadata": {
        "colab": {
          "base_uri": "https://localhost:8080/"
        },
        "id": "Gm7L_YaG0NOR",
        "outputId": "bb145454-5c0f-42fb-e91b-14f0006a6fda"
      },
      "outputs": [
        {
          "output_type": "stream",
          "name": "stdout",
          "text": [
            "\u001b[1m1/1\u001b[0m \u001b[32m━━━━━━━━━━━━━━━━━━━━\u001b[0m\u001b[37m\u001b[0m \u001b[1m0s\u001b[0m 36ms/step\n"
          ]
        }
      ],
      "source": [
        "y_pred = model.predict(X_test).flatten()  # Makes prediction for each test sample\n"
      ]
    },
    {
      "cell_type": "code",
      "execution_count": 24,
      "metadata": {
        "colab": {
          "base_uri": "https://localhost:8080/"
        },
        "id": "DR0xd047_9cD",
        "outputId": "028f6fac-2c88-4f39-aa75-1d1d4100a98d"
      },
      "outputs": [
        {
          "output_type": "stream",
          "name": "stdout",
          "text": [
            "   Actual (Num) Actual (Letter)  Predicted (Num) Predicted (Letter)\n",
            "0         3.325              A-         2.980700                  B\n",
            "1         3.575              A-         2.836869                  B\n",
            "2         1.900               C         2.931214                  B\n",
            "3         3.425              A-         3.154286                 B+\n",
            "4         3.750               A         3.403283                 A-\n"
          ]
        }
      ],
      "source": [
        "# Define the numeric-to-letter grade conversion function\n",
        "def numeric_to_letter_grade(avg_grade):\n",
        "    if avg_grade >= 3.7:\n",
        "        return 'A'\n",
        "    elif avg_grade >= 3.3:\n",
        "        return 'A-'\n",
        "    elif avg_grade >= 3.0:\n",
        "        return 'B+'\n",
        "    elif avg_grade >= 2.7:\n",
        "        return 'B'\n",
        "    elif avg_grade >= 2.3:\n",
        "        return 'B-'\n",
        "    elif avg_grade >= 2.0:\n",
        "        return 'C+'\n",
        "    elif avg_grade >= 1.7:\n",
        "        return 'C'\n",
        "    elif avg_grade >= 1.3:\n",
        "        return 'C-'\n",
        "    elif avg_grade >= 1.0:\n",
        "        return 'D+'\n",
        "    elif avg_grade >= 0.7:\n",
        "        return 'D'\n",
        "    else:\n",
        "        return 'E'\n",
        "\n",
        "# Convert both actual and predicted numeric grades to letter grades\n",
        "letter_preds = [numeric_to_letter_grade(x) for x in y_pred]\n",
        "letter_actuals = [numeric_to_letter_grade(x) for x in y_test]\n",
        "\n",
        "# Build and display/save the comparison table\n",
        "import pandas as pd\n",
        "\n",
        "results = pd.DataFrame({\n",
        "    'Actual (Num)': y_test,\n",
        "    'Actual (Letter)': letter_actuals,\n",
        "    'Predicted (Num)': y_pred,\n",
        "    'Predicted (Letter)': letter_preds\n",
        "})\n",
        "\n",
        "print(results.head())"
      ]
    },
    {
      "cell_type": "code",
      "execution_count": 25,
      "metadata": {
        "colab": {
          "base_uri": "https://localhost:8080/",
          "height": 564
        },
        "id": "C4Y5r3Wr0qrh",
        "outputId": "9cd14635-d74c-4ecb-de02-5545d8bc8e0c"
      },
      "outputs": [
        {
          "output_type": "display_data",
          "data": {
            "text/plain": [
              "<Figure size 600x600 with 1 Axes>"
            ],
            "image/png": "[encoded data removed]"
          },
          "metadata": {}
        }
      ],
      "source": [
        "plt.figure(figsize=(6,6))\n",
        "plt.scatter(y_test, y_pred, alpha=0.7)\n",
        "plt.xlabel('Actual Average Grade')\n",
        "plt.ylabel('Predicted Average Grade')\n",
        "plt.title('Predicted vs Actual Grades on Unseen Data')\n",
        "plt.plot([min(y_test), max(y_test)], [min(y_test), max(y_test)], 'r--')  # reference line y=x\n",
        "plt.grid(True)\n",
        "plt.show()\n"
      ]
    },
    {
      "cell_type": "code",
      "execution_count": 26,
      "metadata": {
        "colab": {
          "base_uri": "https://localhost:8080/",
          "height": 472
        },
        "id": "x-qUl5tW0szh",
        "outputId": "951ae127-c81f-456a-b63b-ac2d4a201580"
      },
      "outputs": [
        {
          "output_type": "display_data",
          "data": {
            "text/plain": [
              "<Figure size 640x480 with 1 Axes>"
            ],
            "image/png": "[encoded data removed]"
          },
          "metadata": {}
        }
      ],
      "source": [
        "residuals = y_test - y_pred\n",
        "plt.figure()\n",
        "plt.hist(residuals, bins=20, color='red', edgecolor='black')\n",
        "plt.xlabel('Prediction Error (Residual)')\n",
        "plt.ylabel('Count')\n",
        "plt.title('Distribution of Prediction Errors on Test Data')\n",
        "plt.grid(False)\n",
        "plt.show()\n"
      ]
    },
    {
      "cell_type": "code",
      "execution_count": 27,
      "metadata": {
        "id": "wZnVK3xq0xnK"
      },
      "outputs": [],
      "source": [
        "# Save true and predicted values for further analysis\n",
        "results = pd.DataFrame({'Actual': y_test, 'Predicted': y_pred})\n",
        "results.to_csv('model_test_results.csv', index=False)\n"
      ]
    },
    {
      "cell_type": "code",
      "execution_count": 28,
      "metadata": {
        "id": "cva4oIBDESDT"
      },
      "outputs": [],
      "source": [
        "import numpy as np\n",
        "from sklearn.preprocessing import MinMaxScaler\n",
        "import pandas as pd\n",
        "\n",
        "# Fit the scaler on the 'GPA_Normalized' column\n",
        "gpa_col = \"GPA_Normalized\"\n",
        "# Assuming df is already loaded and preprocessed as in previous cells\n",
        "# Ensure the 'GPA_Normalized' column is numeric and handle NaNs before fitting the scaler\n",
        "df[gpa_col] = pd.to_numeric(df[gpa_col], errors='coerce')\n",
        "df[gpa_col] = df[gpa_col].fillna(df[gpa_col].mean()) # Fill NaNs if any\n",
        "\n",
        "gpa_scaler = MinMaxScaler()\n",
        "gpa_scaler.fit(df[[gpa_col]])\n",
        "\n",
        "\n",
        "def predict_manual(model, gpa_scaler):\n",
        "    # Prompt for specific attendance percentage\n",
        "    while True:\n",
        "        try:\n",
        "            attendance_val = float(input(\"Enter your attendance percentage (e.g., 87.5 for 87.5%): \"))\n",
        "            break\n",
        "        except ValueError:\n",
        "            print(\"Please enter a valid number.\\n\")\n",
        "    # Normalize attendance to the scale used for training, if needed\n",
        "    # If you used percentage/100 as feature, then just divide by 100 here\n",
        "    attendance_encoded = attendance_val / 100\n",
        "\n",
        "    # Prompt for study hours\n",
        "    while True:\n",
        "        try:\n",
        "            study_hours = float(input(\"Enter the number of study hours per week (e.g., 16): \"))\n",
        "            break\n",
        "        except ValueError:\n",
        "            print(\"Please enter a valid number.\\n\")\n",
        "\n",
        "    # Prompt for assignment completion (as a number or percentage)\n",
        "    while True:\n",
        "        try:\n",
        "            assignments = float(input(\"On average, what fraction of assignments do you submit on time? (e.g., 1 = 100%, 0.8 = 80%): \"))\n",
        "            break\n",
        "        except ValueError:\n",
        "            print(\"Please enter a value between 0 and 1, e.g., 0.8 for 80%.\\n\")\n",
        "\n",
        "    # Part time job (yes/no)\n",
        "    while True:\n",
        "        job_raw = input(\"Are you currently doing a part time job? (yes/no): \").strip().lower()\n",
        "        if job_raw == 'yes':\n",
        "            job = 1\n",
        "            break\n",
        "        elif job_raw == 'no':\n",
        "            job = 0\n",
        "            break\n",
        "        else:\n",
        "            print(\"Please enter 'yes' or 'no'.\\n\")\n",
        "\n",
        "    # Extracurricular activities\n",
        "    while True:\n",
        "        extra_raw = input(\"Are you involved in extracurricular activities? (yes/no/occasionally): \").strip().lower()\n",
        "        if extra_raw == 'yes':\n",
        "            extra = 1\n",
        "            break\n",
        "        elif extra_raw == 'no':\n",
        "            extra = 0\n",
        "            break\n",
        "        elif extra_raw == 'occasionally':\n",
        "            extra = 0.5\n",
        "            break\n",
        "        else:\n",
        "            print(\"Please enter 'yes', 'no', or 'occasionally'.\\n\")\n",
        "\n",
        "    # GPA (raw, then normalize)\n",
        "    while True:\n",
        "        try:\n",
        "            gpa_raw = float(input(\"Enter your GPA (e.g., 3.25): \").strip())\n",
        "            break\n",
        "        except ValueError:\n",
        "            print(\"Please enter a valid GPA number (e.g., 2.85, 3.14).\\n\")\n",
        "\n",
        "    gpa_norm = gpa_scaler.transform([[gpa_raw]])[0][0]\n",
        "\n",
        "    # Build feature array\n",
        "    features_input = np.array([[attendance_encoded, study_hours, assignments, job, extra, gpa_norm]])\n",
        "\n",
        "    pred = model.predict(features_input)[0][0]\n",
        "\n",
        "    # Numeric to letter grade mapping\n",
        "    def numeric_to_letter_grade(avg_grade):\n",
        "        if avg_grade >= 3.7: return 'A'\n",
        "        elif avg_grade >= 3.3: return 'A-'\n",
        "        elif avg_grade >= 3.0: return 'B+'\n",
        "        elif avg_grade >= 2.7: return 'B'\n",
        "        elif avg_grade >= 2.3: return 'B-'\n",
        "        elif avg_grade >= 2.0: return 'C+'\n",
        "        elif avg_grade >= 1.7: return 'C'\n",
        "        elif avg_grade >= 1.3: return 'C-'\n",
        "        elif avg_grade >= 1.0: return 'D+'\n",
        "        elif avg_grade >= 0.7: return 'D'\n",
        "        else: return 'E'\n",
        "\n",
        "    letter_grade = numeric_to_letter_grade(pred)\n",
        "    print(f\"\\nPredicted Average Grade (numeric): {pred:.2f}\")\n",
        "    print(f\"Predicted Average Grade (as letter): **{letter_grade}**\")"
      ]
    },
    {
      "cell_type": "code",
      "execution_count": null,
      "metadata": {
        "id": "fcF6Qs-mEWOJ"
      },
      "outputs": [],
      "source": [
        "predict_manual(model, gpa_scaler)"
      ]
    }
  ],
  "metadata": {
    "colab": {
      "provenance": []
    },
    "kernelspec": {
      "display_name": "Python 3",
      "name": "python3"
    },
    "language_info": {
      "name": "python"
    }
  },
  "nbformat": 4,
  "nbformat_minor": 0
}